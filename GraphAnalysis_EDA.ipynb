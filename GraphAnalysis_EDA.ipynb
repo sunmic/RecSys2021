{
 "cells": [
  {
   "cell_type": "code",
   "execution_count": 1,
   "id": "assigned-craft",
   "metadata": {},
   "outputs": [],
   "source": [
    "import subprocess\n",
    "import pandas as pd\n",
    "import numpy as np\n",
    "import matplotlib.pyplot as plt"
   ]
  },
  {
   "cell_type": "code",
   "execution_count": 2,
   "id": "beneficial-respect",
   "metadata": {},
   "outputs": [],
   "source": [
    "all_features = [\"text_ tokens\", \"hashtags\", \"tweet_id\", \"present_media\", \"present_links\", \"present_domains\",\\\n",
    "                \"tweet_type\",\"language\", \"tweet_timestamp\", \"engaged_with_user_id\", \"engaged_with_user_follower_count\",\\\n",
    "               \"engaged_with_user_following_count\", \"engaged_with_user_is_verified\", \"engaged_with_user_account_creation\",\\\n",
    "               \"enaging_user_id\", \"enaging_user_follower_count\", \"enaging_user_following_count\", \"enaging_user_is_verified\",\\\n",
    "               \"enaging_user_account_creation\", \"engagee_follows_engager\"]\n",
    "labels = [\"reply_timestamp\", \"retweet_timestamp\", \"retweet_with_comment_timestamp\", \"like_timestamp\"]\n",
    "\n",
    "all_features_to_idx = dict(zip(all_features, range(len(all_features))))\n",
    "labels_to_idx = dict(zip(labels, range(len(all_features), len(all_features)+len(labels))))"
   ]
  },
  {
   "cell_type": "code",
   "execution_count": 3,
   "id": "ongoing-interaction",
   "metadata": {},
   "outputs": [],
   "source": [
    "def unpack_to_df(package_name, sslice=None):\n",
    "    out = subprocess.Popen(['lzop', '-dc', package_name], \\\n",
    "            stdout=subprocess.PIPE, \\\n",
    "            stderr=subprocess.STDOUT)\n",
    "    lines, stderr = out.communicate()\n",
    "    lines = lines.decode('utf-8').split('\\n')\n",
    "    if sslice is not None:\n",
    "        lines = lines[sslice]\n",
    "    lines = list(map(lambda line: line.split(\"\\x01\"), lines))\n",
    "    lines = pd.DataFrame(lines, columns=all_features + labels)\n",
    "    return lines"
   ]
  },
  {
   "cell_type": "markdown",
   "id": "governmental-glenn",
   "metadata": {},
   "source": [
    "## Single package experiments"
   ]
  },
  {
   "cell_type": "code",
   "execution_count": 4,
   "id": "exempt-virginia",
   "metadata": {},
   "outputs": [],
   "source": [
    "fp = \"./data/part-00000.lzo\"\n",
    "df = unpack_to_df(fp)\n",
    "df = df[df[\"tweet_id\"].notnull()]"
   ]
  },
  {
   "cell_type": "code",
   "execution_count": 5,
   "id": "urban-franklin",
   "metadata": {},
   "outputs": [
    {
     "data": {
      "text/plain": [
       "6072238473"
      ]
     },
     "execution_count": 5,
     "metadata": {},
     "output_type": "execute_result"
    }
   ],
   "source": [
    "# rozmiar w GB\n",
    "df.__sizeof__()"
   ]
  },
  {
   "cell_type": "code",
   "execution_count": 6,
   "id": "binding-cornell",
   "metadata": {},
   "outputs": [
    {
     "data": {
      "text/html": [
       "<div>\n",
       "<style scoped>\n",
       "    .dataframe tbody tr th:only-of-type {\n",
       "        vertical-align: middle;\n",
       "    }\n",
       "\n",
       "    .dataframe tbody tr th {\n",
       "        vertical-align: top;\n",
       "    }\n",
       "\n",
       "    .dataframe thead th {\n",
       "        text-align: right;\n",
       "    }\n",
       "</style>\n",
       "<table border=\"1\" class=\"dataframe\">\n",
       "  <thead>\n",
       "    <tr style=\"text-align: right;\">\n",
       "      <th></th>\n",
       "      <th>text_ tokens</th>\n",
       "      <th>hashtags</th>\n",
       "      <th>tweet_id</th>\n",
       "      <th>present_media</th>\n",
       "      <th>present_links</th>\n",
       "      <th>present_domains</th>\n",
       "      <th>tweet_type</th>\n",
       "      <th>language</th>\n",
       "      <th>tweet_timestamp</th>\n",
       "      <th>engaged_with_user_id</th>\n",
       "      <th>...</th>\n",
       "      <th>enaging_user_id</th>\n",
       "      <th>enaging_user_follower_count</th>\n",
       "      <th>enaging_user_following_count</th>\n",
       "      <th>enaging_user_is_verified</th>\n",
       "      <th>enaging_user_account_creation</th>\n",
       "      <th>engagee_follows_engager</th>\n",
       "      <th>reply_timestamp</th>\n",
       "      <th>retweet_timestamp</th>\n",
       "      <th>retweet_with_comment_timestamp</th>\n",
       "      <th>like_timestamp</th>\n",
       "    </tr>\n",
       "  </thead>\n",
       "  <tbody>\n",
       "    <tr>\n",
       "      <th>0</th>\n",
       "      <td>101\\t56898\\t137\\t10148\\t96858\\t18193\\t11211\\t1...</td>\n",
       "      <td>DF367A73CB84842E4A6080F624241703</td>\n",
       "      <td>C24EA5C3E19A388895D0FA05EA9E742F</td>\n",
       "      <td>Photo</td>\n",
       "      <td></td>\n",
       "      <td></td>\n",
       "      <td>Retweet</td>\n",
       "      <td>E7F038DE3EAD397AEC9193686C911677</td>\n",
       "      <td>1612712747</td>\n",
       "      <td>419BAC1CC63FF819E98CFC5EFF52DFDA</td>\n",
       "      <td>...</td>\n",
       "      <td>761EDF35532C3D3758DD01D33619D243</td>\n",
       "      <td>220</td>\n",
       "      <td>638</td>\n",
       "      <td>false</td>\n",
       "      <td>1464236635</td>\n",
       "      <td>false</td>\n",
       "      <td></td>\n",
       "      <td></td>\n",
       "      <td></td>\n",
       "      <td>1612721339</td>\n",
       "    </tr>\n",
       "    <tr>\n",
       "      <th>1</th>\n",
       "      <td>101\\t22800\\t11206\\t117\\t13451\\t20517\\t25136\\t1...</td>\n",
       "      <td></td>\n",
       "      <td>2B41BDE7839DE3117D994FDFC9BDA6E1</td>\n",
       "      <td></td>\n",
       "      <td></td>\n",
       "      <td></td>\n",
       "      <td>TopLevel</td>\n",
       "      <td>488B32D24BD4BB44172EB981C1BCA6FA</td>\n",
       "      <td>1614002023</td>\n",
       "      <td>547810FE65A44B3828FFA4587D1CA0C8</td>\n",
       "      <td>...</td>\n",
       "      <td>AE8B92F8CFE9F92C2942DEBBFE4F0FCF</td>\n",
       "      <td>392</td>\n",
       "      <td>487</td>\n",
       "      <td>false</td>\n",
       "      <td>1362687553</td>\n",
       "      <td>true</td>\n",
       "      <td></td>\n",
       "      <td></td>\n",
       "      <td></td>\n",
       "      <td></td>\n",
       "    </tr>\n",
       "    <tr>\n",
       "      <th>2</th>\n",
       "      <td>101\\t119\\t119\\t119\\t45857\\t85270\\t10169\\t77086...</td>\n",
       "      <td></td>\n",
       "      <td>BAF10FE3481E874ED104AC0950F18784</td>\n",
       "      <td></td>\n",
       "      <td></td>\n",
       "      <td></td>\n",
       "      <td>Quote</td>\n",
       "      <td>488B32D24BD4BB44172EB981C1BCA6FA</td>\n",
       "      <td>1612452111</td>\n",
       "      <td>E18710A5B40F9187026AA49A220857BC</td>\n",
       "      <td>...</td>\n",
       "      <td>ED5574665DB1478CA23F13647178D9BE</td>\n",
       "      <td>1306</td>\n",
       "      <td>5000</td>\n",
       "      <td>false</td>\n",
       "      <td>1244857625</td>\n",
       "      <td>true</td>\n",
       "      <td></td>\n",
       "      <td></td>\n",
       "      <td></td>\n",
       "      <td>1612457689</td>\n",
       "    </tr>\n",
       "    <tr>\n",
       "      <th>3</th>\n",
       "      <td>101\\t160\\t39187\\t10237\\t100\\t11337\\t100\\t13028...</td>\n",
       "      <td></td>\n",
       "      <td>BCDD3DDDA04C2E7843B3734620EE0C38</td>\n",
       "      <td>Photo</td>\n",
       "      <td></td>\n",
       "      <td></td>\n",
       "      <td>TopLevel</td>\n",
       "      <td>488B32D24BD4BB44172EB981C1BCA6FA</td>\n",
       "      <td>1612980390</td>\n",
       "      <td>0CC43EBBB61E292102397B8B08A73DDD</td>\n",
       "      <td>...</td>\n",
       "      <td>585F08165162A5C10DE2081ECFACCFC0</td>\n",
       "      <td>90</td>\n",
       "      <td>91</td>\n",
       "      <td>false</td>\n",
       "      <td>1551356429</td>\n",
       "      <td>false</td>\n",
       "      <td></td>\n",
       "      <td></td>\n",
       "      <td></td>\n",
       "      <td>1612981097</td>\n",
       "    </tr>\n",
       "    <tr>\n",
       "      <th>4</th>\n",
       "      <td>101\\t56898\\t137\\t40586\\t10305\\t53244\\t22659\\t1...</td>\n",
       "      <td>86458A61FFFA24A5624A9AD8AA2F0F52</td>\n",
       "      <td>43845DCDBC2A2CA15C3B18431F48F1F8</td>\n",
       "      <td></td>\n",
       "      <td></td>\n",
       "      <td></td>\n",
       "      <td>Retweet</td>\n",
       "      <td>488B32D24BD4BB44172EB981C1BCA6FA</td>\n",
       "      <td>1612834174</td>\n",
       "      <td>29766FB1458BC9BB67EB7E61CBAB957C</td>\n",
       "      <td>...</td>\n",
       "      <td>CAD64086EF823706DEF953E615DB6743</td>\n",
       "      <td>158</td>\n",
       "      <td>411</td>\n",
       "      <td>false</td>\n",
       "      <td>1417656869</td>\n",
       "      <td>false</td>\n",
       "      <td></td>\n",
       "      <td></td>\n",
       "      <td></td>\n",
       "      <td></td>\n",
       "    </tr>\n",
       "    <tr>\n",
       "      <th>...</th>\n",
       "      <td>...</td>\n",
       "      <td>...</td>\n",
       "      <td>...</td>\n",
       "      <td>...</td>\n",
       "      <td>...</td>\n",
       "      <td>...</td>\n",
       "      <td>...</td>\n",
       "      <td>...</td>\n",
       "      <td>...</td>\n",
       "      <td>...</td>\n",
       "      <td>...</td>\n",
       "      <td>...</td>\n",
       "      <td>...</td>\n",
       "      <td>...</td>\n",
       "      <td>...</td>\n",
       "      <td>...</td>\n",
       "      <td>...</td>\n",
       "      <td>...</td>\n",
       "      <td>...</td>\n",
       "      <td>...</td>\n",
       "      <td>...</td>\n",
       "    </tr>\n",
       "    <tr>\n",
       "      <th>3300766</th>\n",
       "      <td>101\\t1894\\t8367\\t4678\\t1895\\t2006\\t107110\\t489...</td>\n",
       "      <td></td>\n",
       "      <td>E778674CF16F9F9A8B6C8217D80A0B63</td>\n",
       "      <td></td>\n",
       "      <td>E88710095B45EC1730C56DAF3A1BF1EB</td>\n",
       "      <td>F595B7DE8992A3D8C7948B4E81419D78</td>\n",
       "      <td>TopLevel</td>\n",
       "      <td>E7F038DE3EAD397AEC9193686C911677</td>\n",
       "      <td>1613218881</td>\n",
       "      <td>43FBB03F0F472A26EB8735BC985BA34A</td>\n",
       "      <td>...</td>\n",
       "      <td>F87340E8AC23AD01ECAEC1E536267BF2</td>\n",
       "      <td>242</td>\n",
       "      <td>438</td>\n",
       "      <td>false</td>\n",
       "      <td>1584362312</td>\n",
       "      <td>false</td>\n",
       "      <td></td>\n",
       "      <td></td>\n",
       "      <td></td>\n",
       "      <td></td>\n",
       "    </tr>\n",
       "    <tr>\n",
       "      <th>3300767</th>\n",
       "      <td>101\\t85706\\t111424\\t16000\\t58264\\t28767\\t69989...</td>\n",
       "      <td>B33235107B345DCA36B32897882A6218</td>\n",
       "      <td>0E36C6BCB99DE48B9F811F41CA8CB4FB</td>\n",
       "      <td>Photo\\tPhoto</td>\n",
       "      <td></td>\n",
       "      <td></td>\n",
       "      <td>TopLevel</td>\n",
       "      <td>9FCF19233EAD65EA6E32C2E6DC03A444</td>\n",
       "      <td>1613544707</td>\n",
       "      <td>B3A5059C31ECD09D14AACE8126D2D427</td>\n",
       "      <td>...</td>\n",
       "      <td>379C45F2A355A36C7E34E4DF89A34E5B</td>\n",
       "      <td>5</td>\n",
       "      <td>237</td>\n",
       "      <td>false</td>\n",
       "      <td>1492798556</td>\n",
       "      <td>false</td>\n",
       "      <td></td>\n",
       "      <td></td>\n",
       "      <td></td>\n",
       "      <td>1613552653</td>\n",
       "    </tr>\n",
       "    <tr>\n",
       "      <th>3300768</th>\n",
       "      <td>101\\t56898\\t137\\t51555\\t168\\t168\\t168\\t38668\\t...</td>\n",
       "      <td>2689FCF969EEF21F9CC5062DD464D40A</td>\n",
       "      <td>1A0D7D783F753B814646ADD9F619E5F7</td>\n",
       "      <td>Photo\\tPhoto\\tPhoto\\tPhoto</td>\n",
       "      <td></td>\n",
       "      <td></td>\n",
       "      <td>Retweet</td>\n",
       "      <td>8729EBF694C3DAF61208A209C2A542C8</td>\n",
       "      <td>1613897649</td>\n",
       "      <td>367150B73ECF7D6C7AD9D957C36683B7</td>\n",
       "      <td>...</td>\n",
       "      <td>3D1A98E4FD4B431E7EF313D43CFC3252</td>\n",
       "      <td>145</td>\n",
       "      <td>243</td>\n",
       "      <td>false</td>\n",
       "      <td>1580204529</td>\n",
       "      <td>true</td>\n",
       "      <td></td>\n",
       "      <td>1613898357</td>\n",
       "      <td></td>\n",
       "      <td>1613898357</td>\n",
       "    </tr>\n",
       "    <tr>\n",
       "      <th>3300769</th>\n",
       "      <td>101\\t12213\\t30800\\t30945\\t21042\\t898\\t103021\\t...</td>\n",
       "      <td></td>\n",
       "      <td>7E03B780AAF34E40755567F0EFB00873</td>\n",
       "      <td></td>\n",
       "      <td></td>\n",
       "      <td></td>\n",
       "      <td>TopLevel</td>\n",
       "      <td>B4DC2F82961F1263E90DF7A942CCE0B2</td>\n",
       "      <td>1614000510</td>\n",
       "      <td>2BCD379E4C2BF80F846D7C8CE4DCCFA9</td>\n",
       "      <td>...</td>\n",
       "      <td>B0E522A4B25BD5914163B479CA5A00AF</td>\n",
       "      <td>30</td>\n",
       "      <td>86</td>\n",
       "      <td>false</td>\n",
       "      <td>1590048148</td>\n",
       "      <td>false</td>\n",
       "      <td></td>\n",
       "      <td></td>\n",
       "      <td></td>\n",
       "      <td>1614069533</td>\n",
       "    </tr>\n",
       "    <tr>\n",
       "      <th>3300770</th>\n",
       "      <td></td>\n",
       "      <td>None</td>\n",
       "      <td>None</td>\n",
       "      <td>None</td>\n",
       "      <td>None</td>\n",
       "      <td>None</td>\n",
       "      <td>None</td>\n",
       "      <td>None</td>\n",
       "      <td>None</td>\n",
       "      <td>None</td>\n",
       "      <td>...</td>\n",
       "      <td>None</td>\n",
       "      <td>None</td>\n",
       "      <td>None</td>\n",
       "      <td>None</td>\n",
       "      <td>None</td>\n",
       "      <td>None</td>\n",
       "      <td>None</td>\n",
       "      <td>None</td>\n",
       "      <td>None</td>\n",
       "      <td>None</td>\n",
       "    </tr>\n",
       "  </tbody>\n",
       "</table>\n",
       "<p>3300771 rows × 24 columns</p>\n",
       "</div>"
      ],
      "text/plain": [
       "                                              text_ tokens  \\\n",
       "0        101\\t56898\\t137\\t10148\\t96858\\t18193\\t11211\\t1...   \n",
       "1        101\\t22800\\t11206\\t117\\t13451\\t20517\\t25136\\t1...   \n",
       "2        101\\t119\\t119\\t119\\t45857\\t85270\\t10169\\t77086...   \n",
       "3        101\\t160\\t39187\\t10237\\t100\\t11337\\t100\\t13028...   \n",
       "4        101\\t56898\\t137\\t40586\\t10305\\t53244\\t22659\\t1...   \n",
       "...                                                    ...   \n",
       "3300766  101\\t1894\\t8367\\t4678\\t1895\\t2006\\t107110\\t489...   \n",
       "3300767  101\\t85706\\t111424\\t16000\\t58264\\t28767\\t69989...   \n",
       "3300768  101\\t56898\\t137\\t51555\\t168\\t168\\t168\\t38668\\t...   \n",
       "3300769  101\\t12213\\t30800\\t30945\\t21042\\t898\\t103021\\t...   \n",
       "3300770                                                      \n",
       "\n",
       "                                 hashtags                          tweet_id  \\\n",
       "0        DF367A73CB84842E4A6080F624241703  C24EA5C3E19A388895D0FA05EA9E742F   \n",
       "1                                          2B41BDE7839DE3117D994FDFC9BDA6E1   \n",
       "2                                          BAF10FE3481E874ED104AC0950F18784   \n",
       "3                                          BCDD3DDDA04C2E7843B3734620EE0C38   \n",
       "4        86458A61FFFA24A5624A9AD8AA2F0F52  43845DCDBC2A2CA15C3B18431F48F1F8   \n",
       "...                                   ...                               ...   \n",
       "3300766                                    E778674CF16F9F9A8B6C8217D80A0B63   \n",
       "3300767  B33235107B345DCA36B32897882A6218  0E36C6BCB99DE48B9F811F41CA8CB4FB   \n",
       "3300768  2689FCF969EEF21F9CC5062DD464D40A  1A0D7D783F753B814646ADD9F619E5F7   \n",
       "3300769                                    7E03B780AAF34E40755567F0EFB00873   \n",
       "3300770                              None                              None   \n",
       "\n",
       "                      present_media                     present_links  \\\n",
       "0                             Photo                                     \n",
       "1                                                                       \n",
       "2                                                                       \n",
       "3                             Photo                                     \n",
       "4                                                                       \n",
       "...                             ...                               ...   \n",
       "3300766                              E88710095B45EC1730C56DAF3A1BF1EB   \n",
       "3300767                Photo\\tPhoto                                     \n",
       "3300768  Photo\\tPhoto\\tPhoto\\tPhoto                                     \n",
       "3300769                                                                 \n",
       "3300770                        None                              None   \n",
       "\n",
       "                          present_domains tweet_type  \\\n",
       "0                                            Retweet   \n",
       "1                                           TopLevel   \n",
       "2                                              Quote   \n",
       "3                                           TopLevel   \n",
       "4                                            Retweet   \n",
       "...                                   ...        ...   \n",
       "3300766  F595B7DE8992A3D8C7948B4E81419D78   TopLevel   \n",
       "3300767                                     TopLevel   \n",
       "3300768                                      Retweet   \n",
       "3300769                                     TopLevel   \n",
       "3300770                              None       None   \n",
       "\n",
       "                                 language tweet_timestamp  \\\n",
       "0        E7F038DE3EAD397AEC9193686C911677      1612712747   \n",
       "1        488B32D24BD4BB44172EB981C1BCA6FA      1614002023   \n",
       "2        488B32D24BD4BB44172EB981C1BCA6FA      1612452111   \n",
       "3        488B32D24BD4BB44172EB981C1BCA6FA      1612980390   \n",
       "4        488B32D24BD4BB44172EB981C1BCA6FA      1612834174   \n",
       "...                                   ...             ...   \n",
       "3300766  E7F038DE3EAD397AEC9193686C911677      1613218881   \n",
       "3300767  9FCF19233EAD65EA6E32C2E6DC03A444      1613544707   \n",
       "3300768  8729EBF694C3DAF61208A209C2A542C8      1613897649   \n",
       "3300769  B4DC2F82961F1263E90DF7A942CCE0B2      1614000510   \n",
       "3300770                              None            None   \n",
       "\n",
       "                     engaged_with_user_id  ...  \\\n",
       "0        419BAC1CC63FF819E98CFC5EFF52DFDA  ...   \n",
       "1        547810FE65A44B3828FFA4587D1CA0C8  ...   \n",
       "2        E18710A5B40F9187026AA49A220857BC  ...   \n",
       "3        0CC43EBBB61E292102397B8B08A73DDD  ...   \n",
       "4        29766FB1458BC9BB67EB7E61CBAB957C  ...   \n",
       "...                                   ...  ...   \n",
       "3300766  43FBB03F0F472A26EB8735BC985BA34A  ...   \n",
       "3300767  B3A5059C31ECD09D14AACE8126D2D427  ...   \n",
       "3300768  367150B73ECF7D6C7AD9D957C36683B7  ...   \n",
       "3300769  2BCD379E4C2BF80F846D7C8CE4DCCFA9  ...   \n",
       "3300770                              None  ...   \n",
       "\n",
       "                          enaging_user_id enaging_user_follower_count  \\\n",
       "0        761EDF35532C3D3758DD01D33619D243                         220   \n",
       "1        AE8B92F8CFE9F92C2942DEBBFE4F0FCF                         392   \n",
       "2        ED5574665DB1478CA23F13647178D9BE                        1306   \n",
       "3        585F08165162A5C10DE2081ECFACCFC0                          90   \n",
       "4        CAD64086EF823706DEF953E615DB6743                         158   \n",
       "...                                   ...                         ...   \n",
       "3300766  F87340E8AC23AD01ECAEC1E536267BF2                         242   \n",
       "3300767  379C45F2A355A36C7E34E4DF89A34E5B                           5   \n",
       "3300768  3D1A98E4FD4B431E7EF313D43CFC3252                         145   \n",
       "3300769  B0E522A4B25BD5914163B479CA5A00AF                          30   \n",
       "3300770                              None                        None   \n",
       "\n",
       "        enaging_user_following_count enaging_user_is_verified  \\\n",
       "0                                638                    false   \n",
       "1                                487                    false   \n",
       "2                               5000                    false   \n",
       "3                                 91                    false   \n",
       "4                                411                    false   \n",
       "...                              ...                      ...   \n",
       "3300766                          438                    false   \n",
       "3300767                          237                    false   \n",
       "3300768                          243                    false   \n",
       "3300769                           86                    false   \n",
       "3300770                         None                     None   \n",
       "\n",
       "        enaging_user_account_creation engagee_follows_engager reply_timestamp  \\\n",
       "0                          1464236635                   false                   \n",
       "1                          1362687553                    true                   \n",
       "2                          1244857625                    true                   \n",
       "3                          1551356429                   false                   \n",
       "4                          1417656869                   false                   \n",
       "...                               ...                     ...             ...   \n",
       "3300766                    1584362312                   false                   \n",
       "3300767                    1492798556                   false                   \n",
       "3300768                    1580204529                    true                   \n",
       "3300769                    1590048148                   false                   \n",
       "3300770                          None                    None            None   \n",
       "\n",
       "        retweet_timestamp retweet_with_comment_timestamp like_timestamp  \n",
       "0                                                            1612721339  \n",
       "1                                                                        \n",
       "2                                                            1612457689  \n",
       "3                                                            1612981097  \n",
       "4                                                                        \n",
       "...                   ...                            ...            ...  \n",
       "3300766                                                                  \n",
       "3300767                                                      1613552653  \n",
       "3300768        1613898357                                    1613898357  \n",
       "3300769                                                      1614069533  \n",
       "3300770              None                           None           None  \n",
       "\n",
       "[3300771 rows x 24 columns]"
      ]
     },
     "execution_count": 6,
     "metadata": {},
     "output_type": "execute_result"
    }
   ],
   "source": [
    "df"
   ]
  },
  {
   "cell_type": "markdown",
   "id": "normal-fancy",
   "metadata": {},
   "source": [
    "## Followers graph\n",
    "\n",
    "Created using user follows author relation. Unfortunatelly we don't have information about author follows user."
   ]
  },
  {
   "cell_type": "code",
   "execution_count": 24,
   "id": "missing-minnesota",
   "metadata": {},
   "outputs": [],
   "source": [
    "import networkx as nx"
   ]
  },
  {
   "cell_type": "code",
   "execution_count": 25,
   "id": "pursuant-scanning",
   "metadata": {},
   "outputs": [],
   "source": [
    "author_id_col = \"enaging_user_id\"\n",
    "user_id_col = \"engaged_with_user_id\"\n",
    "follow_col = \"engagee_follows_engager\""
   ]
  },
  {
   "cell_type": "code",
   "execution_count": 20,
   "id": "limiting-section",
   "metadata": {},
   "outputs": [
    {
     "name": "stderr",
     "output_type": "stream",
     "text": [
      "<ipython-input-20-2350bbaa9636>:1: SettingWithCopyWarning: \n",
      "A value is trying to be set on a copy of a slice from a DataFrame.\n",
      "Try using .loc[row_indexer,col_indexer] = value instead\n",
      "\n",
      "See the caveats in the documentation: https://pandas.pydata.org/pandas-docs/stable/user_guide/indexing.html#returning-a-view-versus-a-copy\n",
      "  df[\"engagee_follows_engager\"] = df[\"engagee_follows_engager\"].map({'true': True, 'false': False})\n"
     ]
    }
   ],
   "source": [
    "df[follow_col] = df[follow_col].map({'true': True, 'false': False})"
   ]
  },
  {
   "cell_type": "code",
   "execution_count": 79,
   "id": "wrapped-entrepreneur",
   "metadata": {},
   "outputs": [],
   "source": [
    "def df_to_graph(dataframe):\n",
    "    G = nx.DiGraph()\n",
    "    for i, row in dataframe.iterrows():\n",
    "        author_id = row[author_id_col]\n",
    "        user_id = row[user_id_col]\n",
    "        if not row[follow_col] and not G.has_edge(user_id, author_id):\n",
    "            continue\n",
    "\n",
    "        # user follows author\n",
    "        G.add_edge(user_id, author_id)\n",
    "    return G"
   ]
  },
  {
   "cell_type": "code",
   "execution_count": null,
   "id": "korean-probability",
   "metadata": {},
   "outputs": [],
   "source": [
    "G = df_to_graph(df)"
   ]
  },
  {
   "cell_type": "code",
   "execution_count": 29,
   "id": "knowing-boards",
   "metadata": {},
   "outputs": [
    {
     "name": "stdout",
     "output_type": "stream",
     "text": [
      "Name: \n",
      "Type: DiGraph\n",
      "Number of nodes: 1987443\n",
      "Number of edges: 1347694\n",
      "Average in degree:   0.6781\n",
      "Average out degree:   0.6781\n"
     ]
    }
   ],
   "source": [
    "print(nx.info(G))"
   ]
  },
  {
   "cell_type": "markdown",
   "id": "remarkable-combat",
   "metadata": {},
   "source": [
    "### Component analysis\n",
    "\n",
    "Reminder: Weakly connected components in directed graph are calculated by ignoring edge direction."
   ]
  },
  {
   "cell_type": "code",
   "execution_count": 35,
   "id": "marked-allowance",
   "metadata": {},
   "outputs": [
    {
     "name": "stdout",
     "output_type": "stream",
     "text": [
      "Number of connected components:  654676\n"
     ]
    }
   ],
   "source": [
    "connected_compontents_count = nx.number_weakly_connected_components(undirected_G)\n",
    "print(\"Number of connected components: \", connected_compontents_count)"
   ]
  },
  {
   "cell_type": "code",
   "execution_count": 42,
   "id": "rural-shoot",
   "metadata": {},
   "outputs": [
    {
     "name": "stdout",
     "output_type": "stream",
     "text": [
      "====> Component 0\n",
      "Name: \n",
      "Type: DiGraph\n",
      "Number of nodes: 236019\n",
      "Number of edges: 245647\n",
      "Average in degree:   1.0408\n",
      "Average out degree:   1.0408\n",
      "====> Component 1\n",
      "Name: \n",
      "Type: DiGraph\n",
      "Number of nodes: 1331\n",
      "Number of edges: 1388\n",
      "Average in degree:   1.0428\n",
      "Average out degree:   1.0428\n",
      "====> Component 2\n",
      "Name: \n",
      "Type: DiGraph\n",
      "Number of nodes: 1319\n",
      "Number of edges: 1384\n",
      "Average in degree:   1.0493\n",
      "Average out degree:   1.0493\n",
      "====> Component 3\n",
      "Name: \n",
      "Type: DiGraph\n",
      "Number of nodes: 679\n",
      "Number of edges: 734\n",
      "Average in degree:   1.0810\n",
      "Average out degree:   1.0810\n",
      "====> Component 4\n",
      "Name: \n",
      "Type: DiGraph\n",
      "Number of nodes: 667\n",
      "Number of edges: 671\n",
      "Average in degree:   1.0060\n",
      "Average out degree:   1.0060\n",
      "====> Component 5\n",
      "Name: \n",
      "Type: DiGraph\n",
      "Number of nodes: 582\n",
      "Number of edges: 610\n",
      "Average in degree:   1.0481\n",
      "Average out degree:   1.0481\n",
      "====> Component 6\n",
      "Name: \n",
      "Type: DiGraph\n",
      "Number of nodes: 578\n",
      "Number of edges: 623\n",
      "Average in degree:   1.0779\n",
      "Average out degree:   1.0779\n",
      "====> Component 7\n",
      "Name: \n",
      "Type: DiGraph\n",
      "Number of nodes: 479\n",
      "Number of edges: 503\n",
      "Average in degree:   1.0501\n",
      "Average out degree:   1.0501\n",
      "====> Component 8\n",
      "Name: \n",
      "Type: DiGraph\n",
      "Number of nodes: 394\n",
      "Number of edges: 411\n",
      "Average in degree:   1.0431\n",
      "Average out degree:   1.0431\n",
      "====> Component 9\n",
      "Name: \n",
      "Type: DiGraph\n",
      "Number of nodes: 390\n",
      "Number of edges: 470\n",
      "Average in degree:   1.2051\n",
      "Average out degree:   1.2051\n"
     ]
    }
   ],
   "source": [
    "component_stats = [nx.info(nx.subgraph(G, c)) for c in sorted(nx.weakly_connected_components(G), key=len, reverse=True)[:10]]\n",
    "for i, stats in enumerate(component_stats):\n",
    "    print(f\"====> Component {i}\")\n",
    "    print(stats)"
   ]
  },
  {
   "cell_type": "markdown",
   "id": "ceramic-petite",
   "metadata": {},
   "source": [
    "### Degree analysis\n",
    "\n",
    "In-degree and out-degree in directed graph"
   ]
  },
  {
   "cell_type": "code",
   "execution_count": 51,
   "id": "auburn-printer",
   "metadata": {},
   "outputs": [],
   "source": [
    "in_degrees = [degree for node, degree in G.in_degree()]\n",
    "out_degrees = [degree for node, degree in G.out_degree()]"
   ]
  },
  {
   "cell_type": "code",
   "execution_count": 54,
   "id": "injured-bobby",
   "metadata": {},
   "outputs": [
    {
     "data": {
      "text/plain": [
       "(0, 49)"
      ]
     },
     "execution_count": 54,
     "metadata": {},
     "output_type": "execute_result"
    }
   ],
   "source": [
    "np.min(in_degrees), np.max(in_degrees)"
   ]
  },
  {
   "cell_type": "code",
   "execution_count": 55,
   "id": "romance-batman",
   "metadata": {},
   "outputs": [
    {
     "data": {
      "text/plain": [
       "(0, 442)"
      ]
     },
     "execution_count": 55,
     "metadata": {},
     "output_type": "execute_result"
    }
   ],
   "source": [
    "np.min(out_degrees), np.max(out_degrees)"
   ]
  },
  {
   "cell_type": "code",
   "execution_count": 58,
   "id": "physical-annual",
   "metadata": {},
   "outputs": [],
   "source": [
    "in_degree_hist = np.histogram(in_degrees, bins=49)\n",
    "out_degree_hist = np.histogram(out_degrees, bins=442)"
   ]
  },
  {
   "cell_type": "code",
   "execution_count": 68,
   "id": "northern-advice",
   "metadata": {},
   "outputs": [
    {
     "name": "stdout",
     "output_type": "stream",
     "text": [
      "0-in-degree nodes (only author nodes):  921825\n",
      "0-out-degree nodes (only user nodes) 913035\n",
      "Sum:  1834860\n",
      "Total nodes:  1987443\n",
      "Difference (user & author nodes) 152583\n"
     ]
    }
   ],
   "source": [
    "print(\"0-in-degree nodes (only author nodes): \", in_degree_hist[0][0])\n",
    "print(\"0-out-degree nodes (only user nodes)\", out_degree_hist[0][0])\n",
    "print(\"Sum: \", in_degree_hist[0][0] + out_degree_hist[0][0])\n",
    "print(\"Total nodes: \", len(G))\n",
    "print(\"Difference (user & author nodes)\", len(G) - (in_degree_hist[0][0] + out_degree_hist[0][0]))"
   ]
  },
  {
   "cell_type": "code",
   "execution_count": 69,
   "id": "rough-porter",
   "metadata": {},
   "outputs": [
    {
     "data": {
      "text/plain": [
       "0.07677352256140176"
      ]
     },
     "execution_count": 69,
     "metadata": {},
     "output_type": "execute_result"
    }
   ],
   "source": [
    "152583 / 1987443"
   ]
  },
  {
   "cell_type": "code",
   "execution_count": 77,
   "id": "sonic-given",
   "metadata": {},
   "outputs": [
    {
     "data": {
      "image/png": "[encoded data removed]",
      "text/plain": [
       "<Figure size 1080x720 with 2 Axes>"
      ]
     },
     "metadata": {
      "needs_background": "light"
     },
     "output_type": "display_data"
    }
   ],
   "source": [
    "plt.figure(figsize=(15, 10))\n",
    "plt.subplot(2, 1, 1)\n",
    "plt.bar(in_degree_hist[1][:-1], in_degree_hist[0])\n",
    "plt.title(\"In-degree distribution\")\n",
    "plt.yscale(\"log\")\n",
    "plt.subplot(2, 1, 2)\n",
    "plt.bar(out_degree_hist[1][:-1], out_degree_hist[0])\n",
    "plt.title(\"Out-degree distribution\")\n",
    "plt.yscale(\"log\")\n",
    "plt.show()"
   ]
  },
  {
   "cell_type": "markdown",
   "id": "military-thumb",
   "metadata": {},
   "source": [
    "## More data parts"
   ]
  },
  {
   "cell_type": "code",
   "execution_count": 78,
   "id": "delayed-mailing",
   "metadata": {},
   "outputs": [],
   "source": [
    "fp_1 = \"./data/part-00001.lzo\"\n",
    "fp_2 = \"./data/part-00002.lzo\"\n",
    "fp_3 = \"./data/part-00003.lzo\"\n",
    "df_1 = unpack_to_df(fp_1)\n",
    "df_2 = unpack_to_df(fp_2)\n",
    "df_3 = unpack_to_df(fp_3)"
   ]
  },
  {
   "cell_type": "code",
   "execution_count": 80,
   "id": "dental-southeast",
   "metadata": {},
   "outputs": [],
   "source": [
    "G_1 = df_to_graph(df_1)\n",
    "G_2 = df_to_graph(df_2)\n",
    "G_3 = df_to_graph(df_3)"
   ]
  },
  {
   "cell_type": "code",
   "execution_count": 88,
   "id": "sustainable-force",
   "metadata": {},
   "outputs": [
    {
     "data": {
      "text/plain": [
       "128"
      ]
     },
     "execution_count": 88,
     "metadata": {},
     "output_type": "execute_result"
    }
   ],
   "source": [
    "# clear some memory\n",
    "import gc\n",
    "\n",
    "del df_1\n",
    "df_1 = None\n",
    "del df_2\n",
    "df_2 = None\n",
    "del df_3\n",
    "df_3 = None\n",
    "gc.collect()"
   ]
  },
  {
   "cell_type": "code",
   "execution_count": 84,
   "id": "everyday-daniel",
   "metadata": {},
   "outputs": [
    {
     "name": "stdout",
     "output_type": "stream",
     "text": [
      "Total nodes: 8210563\n",
      "Common nodes: 337057\n"
     ]
    }
   ],
   "source": [
    "common_nodes = set(G.nodes)\n",
    "total_nodes = set(G.nodes)\n",
    "for graph in [G_1, G_2, G_3]:\n",
    "    common_nodes.intersection_update(graph.nodes)\n",
    "    total_nodes.update(graph.nodes)\n",
    "print(\"Total nodes:\", len(total_nodes))\n",
    "print(\"Common nodes:\", len(common_nodes))"
   ]
  },
  {
   "cell_type": "code",
   "execution_count": 90,
   "id": "peripheral-commerce",
   "metadata": {},
   "outputs": [],
   "source": [
    "joined_graph = G\n",
    "for graph in [G_1, G_2, G_3]:\n",
    "    joined_graph = nx.compose(joined_graph, graph)"
   ]
  },
  {
   "cell_type": "code",
   "execution_count": 92,
   "id": "seasonal-novelty",
   "metadata": {},
   "outputs": [
    {
     "name": "stdout",
     "output_type": "stream",
     "text": [
      "Name: \n",
      "Type: DiGraph\n",
      "Number of nodes: 8210563\n",
      "Number of edges: 9965989\n",
      "Average in degree:   1.2138\n",
      "Average out degree:   1.2138\n"
     ]
    }
   ],
   "source": [
    "print(nx.info(joined_graph))"
   ]
  },
  {
   "cell_type": "code",
   "execution_count": 91,
   "id": "norman-reception",
   "metadata": {},
   "outputs": [
    {
     "name": "stdout",
     "output_type": "stream",
     "text": [
      "====> Component 0\n",
      "Name: \n",
      "Type: DiGraph\n",
      "Number of nodes: 6265249\n",
      "Number of edges: 8841402\n",
      "Average in degree:   1.4112\n",
      "Average out degree:   1.4112\n",
      "====> Component 1\n",
      "Name: \n",
      "Type: DiGraph\n",
      "Number of nodes: 91\n",
      "Number of edges: 95\n",
      "Average in degree:   1.0440\n",
      "Average out degree:   1.0440\n",
      "====> Component 2\n",
      "Name: \n",
      "Type: DiGraph\n",
      "Number of nodes: 55\n",
      "Number of edges: 55\n",
      "Average in degree:   1.0000\n",
      "Average out degree:   1.0000\n",
      "====> Component 3\n",
      "Name: \n",
      "Type: DiGraph\n",
      "Number of nodes: 51\n",
      "Number of edges: 50\n",
      "Average in degree:   0.9804\n",
      "Average out degree:   0.9804\n",
      "====> Component 4\n",
      "Name: \n",
      "Type: DiGraph\n",
      "Number of nodes: 48\n",
      "Number of edges: 51\n",
      "Average in degree:   1.0625\n",
      "Average out degree:   1.0625\n",
      "====> Component 5\n",
      "Name: \n",
      "Type: DiGraph\n",
      "Number of nodes: 45\n",
      "Number of edges: 44\n",
      "Average in degree:   0.9778\n",
      "Average out degree:   0.9778\n",
      "====> Component 6\n",
      "Name: \n",
      "Type: DiGraph\n",
      "Number of nodes: 45\n",
      "Number of edges: 47\n",
      "Average in degree:   1.0444\n",
      "Average out degree:   1.0444\n",
      "====> Component 7\n",
      "Name: \n",
      "Type: DiGraph\n",
      "Number of nodes: 44\n",
      "Number of edges: 54\n",
      "Average in degree:   1.2273\n",
      "Average out degree:   1.2273\n",
      "====> Component 8\n",
      "Name: \n",
      "Type: DiGraph\n",
      "Number of nodes: 43\n",
      "Number of edges: 42\n",
      "Average in degree:   0.9767\n",
      "Average out degree:   0.9767\n",
      "====> Component 9\n",
      "Name: \n",
      "Type: DiGraph\n",
      "Number of nodes: 41\n",
      "Number of edges: 50\n",
      "Average in degree:   1.2195\n",
      "Average out degree:   1.2195\n"
     ]
    }
   ],
   "source": [
    "component_stats = [nx.info(nx.subgraph(joined_graph, c)) for c in sorted(nx.weakly_connected_components(joined_graph), key=len, reverse=True)[:10]]\n",
    "for i, stats in enumerate(component_stats):\n",
    "    print(f\"====> Component {i}\")\n",
    "    print(stats)"
   ]
  },
  {
   "cell_type": "code",
   "execution_count": 93,
   "id": "unique-profile",
   "metadata": {},
   "outputs": [],
   "source": [
    "in_degrees = [degree for node, degree in joined_graph.in_degree()]\n",
    "out_degrees = [degree for node, degree in joined_graph.out_degree()]"
   ]
  },
  {
   "cell_type": "code",
   "execution_count": 96,
   "id": "empty-obligation",
   "metadata": {},
   "outputs": [],
   "source": [
    "in_degree_hist = np.histogram(in_degrees, bins=np.max(in_degrees))\n",
    "out_degree_hist = np.histogram(out_degrees, bins=np.max(out_degrees))"
   ]
  },
  {
   "cell_type": "code",
   "execution_count": 98,
   "id": "offshore-handle",
   "metadata": {},
   "outputs": [
    {
     "name": "stdout",
     "output_type": "stream",
     "text": [
      "0-in-degree nodes (only author nodes):  2852191\n",
      "0-out-degree nodes (only user nodes) 4275374\n",
      "Sum:  7127565\n",
      "Total nodes:  8210563\n",
      "Difference (user & author nodes) 1082998\n"
     ]
    }
   ],
   "source": [
    "print(\"0-in-degree nodes (only author nodes): \", in_degree_hist[0][0])\n",
    "print(\"0-out-degree nodes (only user nodes)\", out_degree_hist[0][0])\n",
    "print(\"Sum: \", in_degree_hist[0][0] + out_degree_hist[0][0])\n",
    "print(\"Total nodes: \", len(joined_graph))\n",
    "print(\"Difference (user & author nodes)\", len(joined_graph) - (in_degree_hist[0][0] + out_degree_hist[0][0]))"
   ]
  },
  {
   "cell_type": "code",
   "execution_count": 99,
   "id": "every-reserve",
   "metadata": {},
   "outputs": [
    {
     "data": {
      "image/png": "[encoded data removed]",
      "text/plain": [
       "<Figure size 1080x720 with 2 Axes>"
      ]
     },
     "metadata": {
      "needs_background": "light"
     },
     "output_type": "display_data"
    }
   ],
   "source": [
    "# lower the number of bins\n",
    "in_degree_hist = np.histogram(in_degrees, bins=100)\n",
    "out_degree_hist = np.histogram(out_degrees, bins=100)\n",
    "# figs\n",
    "plt.figure(figsize=(15, 10))\n",
    "plt.subplot(2, 1, 1)\n",
    "plt.bar(in_degree_hist[1][:-1], in_degree_hist[0])\n",
    "plt.title(\"In-degree distribution\")\n",
    "plt.yscale(\"log\")\n",
    "plt.subplot(2, 1, 2)\n",
    "plt.bar(out_degree_hist[1][:-1], out_degree_hist[0])\n",
    "plt.title(\"Out-degree distribution\")\n",
    "plt.yscale(\"log\")\n",
    "plt.show()"
   ]
  },
  {
   "cell_type": "markdown",
   "id": "nearby-expense",
   "metadata": {},
   "source": [
    "### Node measurements"
   ]
  },
  {
   "cell_type": "code",
   "execution_count": 100,
   "id": "purple-parameter",
   "metadata": {},
   "outputs": [
    {
     "name": "stdout",
     "output_type": "stream",
     "text": [
      "Page rank\n",
      "Eigenvector centrality\n"
     ]
    }
   ],
   "source": [
    "print(\"Page rank\")\n",
    "pr = nx.pagerank(joined_graph)\n",
    "print(\"Eigenvector centrality\")\n",
    "ec = nx.eigenvector_centrality(joined_graph)"
   ]
  },
  {
   "cell_type": "code",
   "execution_count": 112,
   "id": "olive-groove",
   "metadata": {},
   "outputs": [
    {
     "data": {
      "text/plain": [
       "[('CE1FECA5A0D58FFD7B001EA7D122F67A', 7.84946040633662e-06),\n",
       " ('64BDDA4D466C684D9501ADB4CBA13AC7', 6.032409952992961e-06),\n",
       " ('3F4FB57B7EF4830886641FF53F057B3C', 5.8162928897381406e-06),\n",
       " ('E68840D972D6E7E9A69DFF7C01651577', 5.670998807682496e-06),\n",
       " ('3E3FA02DAC6A4359B480C2E5C82FF03A', 5.664035773749552e-06),\n",
       " ('0C0691C500C6DAAA47ABBCA87ED11883', 5.2468687582293605e-06),\n",
       " ('5C8E7923BECBA099029D0C815558D239', 4.990160168167939e-06),\n",
       " ('6A7C43FE1A2BF2F6BD360CB6978F7BB0', 4.678168654466853e-06),\n",
       " ('FCC0066050DE98CBE80D223443A92546', 4.646699482675895e-06),\n",
       " ('30BC293F3524D2E13EBC6F972C51C2E1', 4.642592585574923e-06),\n",
       " ('29C7EFD2D70B0A55DFEE815A5271E814', 4.3377208881470224e-06),\n",
       " ('FBA41A7BC0ABABD7BC695D227019A4EF', 4.301913171874738e-06),\n",
       " ('89BAB28FDBCBD5A3127AFA37185927C5', 4.28696398338123e-06),\n",
       " ('3FDA38FA814E282924C89973A2204574', 4.265278511704612e-06),\n",
       " ('775BD9F4F42BFB39A9122738CD941854', 4.258332381403159e-06),\n",
       " ('EF492D9F087DD6E120958218A96A7265', 4.241798612819092e-06),\n",
       " ('B3AFB1667EFA61635C13FE27A2A85FEB', 4.2394005630825095e-06),\n",
       " ('1B5758875F597B744E09A6356F83CC56', 4.208462907800459e-06),\n",
       " ('29A9F2241CDD36C3663799852591A529', 4.097328571881777e-06),\n",
       " ('FB54E033CE8DD3277E4B10F2A315DA26', 4.074161210035632e-06)]"
      ]
     },
     "execution_count": 112,
     "metadata": {},
     "output_type": "execute_result"
    }
   ],
   "source": [
    "sorted_pr = sorted(pr.items(), key=lambda x: x[1], reverse=True)\n",
    "sorted_pr[:20]"
   ]
  },
  {
   "cell_type": "code",
   "execution_count": 113,
   "id": "australian-gothic",
   "metadata": {},
   "outputs": [
    {
     "data": {
      "text/plain": [
       "[('9CC8B955C8EFD746B1508DDD5FC34B93', 0.25033348618033435),\n",
       " ('5E3BEFCEA3D49FE5DAE8DD590EEC447A', 0.22017116200583348),\n",
       " ('C2ACD1555EAC8D625607538527B40F39', 0.11716767454752519),\n",
       " ('3945B46DAD1BC92DE7280CC43DA6C76E', 0.1167860189093247),\n",
       " ('741ADD9C4140F14517FC92EB565A31EB', 0.10946949384404925),\n",
       " ('2D41DDEBE46310C1C3217D0734298450', 0.1094230868751433),\n",
       " ('378DAE59DD2B9D72AC3E1D215AC2FA64', 0.10647464859407574),\n",
       " ('FE9EA664DD6B25595F8885635D846C35', 0.10582287670003991),\n",
       " ('F481F949CCC8570EE754C3478481D273', 0.10518080653668303),\n",
       " ('DB56061AA6624363608AED6CD9940BC1', 0.09882399014308592),\n",
       " ('D75C4AB3E46399472D005A32852430B3', 0.09704776504794843),\n",
       " ('4B70BF5DB66BEE03765A2311C5C8688B', 0.09536727080523305),\n",
       " ('FCC0C7EB38D49E903AFFE836315BFE8B', 0.09407427593474511),\n",
       " ('62FF4A43CA04C9FA31EB16738CAB64B8', 0.09312704871267526),\n",
       " ('8645CE67A97053E96BD462A4319F7377', 0.09247587637362074),\n",
       " ('A98CD4EEFC88FEDF9919229A49C6E2E3', 0.09068267972279913),\n",
       " ('042B7180D5948601E56552595E29D159', 0.08726683770161003),\n",
       " ('D2B886378556FE59606028E591F7B03A', 0.08717161459267313),\n",
       " ('655B52BB5FE62A7058097F0989E2F61E', 0.08630806474806767),\n",
       " ('F6FC409A18EB9680579E727D799B248C', 0.08606447755013623)]"
      ]
     },
     "execution_count": 113,
     "metadata": {},
     "output_type": "execute_result"
    }
   ],
   "source": [
    "sorted_ec = sorted(ec.items(), key=lambda x: x[1], reverse=True)\n",
    "sorted_ec[:20]"
   ]
  },
  {
   "cell_type": "markdown",
   "id": "sonic-prevention",
   "metadata": {},
   "source": [
    "### Podsumowanie\n",
    "\n",
    "#### Jedna paczka\n",
    "* praktycznie równy średni in_degree i out_degree + rozkład stopnii wskazuje na to, graf można podzielić na autorów i userów, z mniejszą liczbą wierzchołków będących autorami-userami (16%)\n",
    "* większa liczba wierzchołków niż krawędzi \n",
    "* jedna większa składowa i wiele pomniejszych, skladających sie z od 100-1000 node'ów\n",
    "\n",
    "### Wiele paczek\n",
    "* mało wspolnych wierzchołków (4%)\n",
    "* formuje się jeden dominujący komponent z udziałem 76%, reszta to bardzo małe składowe składające się z kilkudziesięciu węzłów\n",
    "* zmniejsza się liczba tylko-autorów"
   ]
  },
  {
   "cell_type": "code",
   "execution_count": null,
   "id": "decimal-grill",
   "metadata": {},
   "outputs": [],
   "source": []
  }
 ],
 "metadata": {
  "kernelspec": {
   "display_name": "Python 3",
   "language": "python",
   "name": "python3"
  },
  "language_info": {
   "codemirror_mode": {
    "name": "ipython",
    "version": 3
   },
   "file_extension": ".py",
   "mimetype": "text/x-python",
   "name": "python",
   "nbconvert_exporter": "python",
   "pygments_lexer": "ipython3",
   "version": "3.8.6"
  }
 },
 "nbformat": 4,
 "nbformat_minor": 5
}
