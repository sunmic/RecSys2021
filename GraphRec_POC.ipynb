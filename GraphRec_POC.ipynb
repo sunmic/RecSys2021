{
  "cells": [
    {
      "cell_type": "markdown",
      "metadata": {
        "id": "oiyRqSoIuoF8"
      },
      "source": [
        "# Przygotowanie środowiska Collab"
      ]
    },
    {
      "cell_type": "code",
      "execution_count": null,
      "metadata": {
        "id": "_jrVzsdPEaqq"
      },
      "outputs": [],
      "source": [
        "from google.colab import drive\n",
        "drive.mount('/content/drive')"
      ]
    },
    {
      "cell_type": "code",
      "execution_count": null,
      "metadata": {
        "colab": {
          "base_uri": "https://localhost:8080/"
        },
        "id": "q0IYnhf0ukEn",
        "outputId": "be83ba30-aac7-467d-ce46-4d2780e02593"
      },
      "outputs": [],
      "source": [
        "!apt-get install lzop --quiet"
      ]
    },
    {
      "cell_type": "markdown",
      "metadata": {
        "id": "LgMlxagVCeRQ"
      },
      "source": [
        "# GraphRec demo"
      ]
    },
    {
      "cell_type": "markdown",
      "metadata": {
        "id": "a5mY9T_oEQn8"
      },
      "source": [
        "## Data"
      ]
    },
    {
      "cell_type": "code",
      "execution_count": null,
      "metadata": {
        "id": "Xq6WMX88EPzR"
      },
      "outputs": [],
      "source": [
        "import pickle\n",
        "from functools import reduce\n",
        "\n",
        "history_u_lists, \\\n",
        "    history_ur_lists, \\\n",
        "    history_v_lists, \\\n",
        "    history_vr_lists, \\\n",
        "    train_u, train_v, \\\n",
        "    train_r, \\\n",
        "    test_u, \\\n",
        "    test_v, \\\n",
        "    test_r, \\\n",
        "    social_adj_lists, \\\n",
        "    ratings_list = pickle.load(open('/content/drive/Shareddrives/RecSys21/GraphRec-WWW19/data/toy_dataset.pickle', 'rb'))"
      ]
    },
    {
      "cell_type": "code",
      "execution_count": null,
      "metadata": {
        "colab": {
          "base_uri": "https://localhost:8080/"
        },
        "id": "ZDuHHpmLHDyO",
        "outputId": "759c9ea9-108a-48e5-cb84-ff6e48c116e2"
      },
      "outputs": [
        {
          "name": "stdout",
          "output_type": "stream",
          "text": [
            "Total amount of purchased items in the dataset: 14091\n"
          ]
        }
      ],
      "source": [
        "c = 0\n",
        "for i in range(len(history_u_lists)):\n",
        "    c += len(history_u_lists[i])\n",
        "\n",
        "print(\"Total amount of purchased items in the dataset: %d\" % c)"
      ]
    },
    {
      "cell_type": "code",
      "execution_count": null,
      "metadata": {
        "colab": {
          "base_uri": "https://localhost:8080/"
        },
        "id": "qrmMUgQqJnAM",
        "outputId": "48c1ceb5-90d7-4f03-cf78-12d5afa69fc7"
      },
      "outputs": [
        {
          "data": {
            "text/plain": [
              "{0.5: 7, 1.0: 1, 1.5: 6, 2.0: 0, 2.5: 4, 3.0: 2, 3.5: 5, 4.0: 3}"
            ]
          },
          "execution_count": 57,
          "metadata": {
            "tags": []
          },
          "output_type": "execute_result"
        }
      ],
      "source": [
        "ratings_list"
      ]
    },
    {
      "cell_type": "markdown",
      "metadata": {
        "id": "QmMhPxwNER03"
      },
      "source": [
        "## Training"
      ]
    },
    {
      "cell_type": "code",
      "execution_count": null,
      "metadata": {
        "colab": {
          "base_uri": "https://localhost:8080/",
          "height": 732
        },
        "id": "rqU1pd4ECg6_",
        "outputId": "0080fb24-90c3-4aab-e809-dbd5f37ad38f"
      },
      "outputs": [],
      "source": [
        "%%time\n",
        "import os\n",
        "os.chdir('/content/drive/Shareddrives/RecSys21/GraphRec-WWW19/')\n",
        "\n",
        "%run run_GraphRec_example.py"
      ]
    },
    {
      "cell_type": "markdown",
      "metadata": {
        "id": "cOKdN4urq-5v"
      },
      "source": [
        "# LZOP\n",
        "\n",
        "Parsowanie danych do postaci .pickle dla potrzeb GraphRec korzystająć z paczek lzop\n"
      ]
    },
    {
      "cell_type": "code",
      "execution_count": null,
      "metadata": {
        "id": "3_lPxkCZ0wPf"
      },
      "outputs": [],
      "source": [
        "import subprocess\n",
        "import pandas as pd\n",
        "import numpy as np\n",
        "import matplotlib.pyplot as plt\n",
        "import itertools\n",
        "import seaborn as sns\n",
        "import pickle\n",
        "import random\n",
        "import os\n",
        "from tqdm.notebook import tqdm\n",
        "from sklearn.model_selection import train_test_split"
      ]
    },
    {
      "cell_type": "code",
      "execution_count": null,
      "metadata": {
        "id": "kxg7GXjCWmUx"
      },
      "outputs": [],
      "source": [
        "all_features = [\"text_tokens\", \"hashtags\", \"tweet_id\", \"present_media\", \"present_links\", \"present_domains\",\\\n",
        "                \"tweet_type\",\"language\", \"tweet_timestamp\", \"engaged_with_user_id\", \"engaged_with_user_follower_count\",\\\n",
        "               \"engaged_with_user_following_count\", \"engaged_with_user_is_verified\", \"engaged_with_user_account_creation\",\\\n",
        "               \"enaging_user_id\", \"enaging_user_follower_count\", \"enaging_user_following_count\", \"enaging_user_is_verified\",\\\n",
        "               \"enaging_user_account_creation\", \"engagee_follows_engager\"]\n",
        "labels = [\"reply_timestamp\", \"retweet_timestamp\", \"retweet_with_comment_timestamp\", \"like_timestamp\"]\n",
        "\n",
        "all_features_to_idx = dict(zip(all_features, range(len(all_features))))\n",
        "labels_to_idx = dict(zip(labels, range(len(all_features), len(all_features)+len(labels))))"
      ]
    },
    {
      "cell_type": "code",
      "execution_count": null,
      "metadata": {
        "id": "pK-llj5qjQWc"
      },
      "outputs": [],
      "source": [
        "def unpack_to_df(package_name, sslice=None):\n",
        "    out = subprocess.Popen(['lzop', '-dc', package_name],\n",
        "            stdout=subprocess.PIPE,\n",
        "            # stderr=subprocess.DEVNULL,\n",
        "            )\n",
        "    lines, stderr = out.communicate()\n",
        "    lines = lines.decode('utf-8').split('\\n')\n",
        "\n",
        "    out.terminate() \n",
        "    del out, stderr\n",
        "\n",
        "    if sslice is not None:\n",
        "        lines = lines[sslice]\n",
        "    for i in range(len(lines)-1):\n",
        "        line = lines[i].split(\"\\x01\")\n",
        "        line = [\n",
        "            line[all_features_to_idx['tweet_id']],\n",
        "            line[all_features_to_idx['engaged_with_user_id']],\n",
        "            line[all_features_to_idx['enaging_user_id']],\n",
        "            line[all_features_to_idx['engagee_follows_engager']],\n",
        "            [\n",
        "             bool(line[labels_to_idx['reply_timestamp']]),\n",
        "             bool(line[labels_to_idx['retweet_timestamp']]),\n",
        "             bool(line[labels_to_idx['retweet_with_comment_timestamp']]),\n",
        "             bool(line[labels_to_idx['like_timestamp']]),\n",
        "            ]]\n",
        "        lines[i] = line\n",
        "        \n",
        "    lines = pd.DataFrame(lines, columns=[\n",
        "        'tweet_id',\n",
        "        'engaged_with_user_id',\n",
        "        'enaging_user_id',\n",
        "        'engagee_follows_engager',\n",
        "        'reaction'\n",
        "    ])\n",
        "    # lines['reaction'] = lines[\"reaction\"].apply(lambda r: reduce(lambda out, bit: (out << 1) | bit, r)) \n",
        "    return lines"
      ]
    },
    {
      "cell_type": "code",
      "execution_count": null,
      "metadata": {
        "id": "ozhEC01fVGoG"
      },
      "outputs": [],
      "source": [
        "df = unpack_to_df(\"/content/drive/Shareddrives/RecSys21/training/part-00000.lzo\")\n",
        "df.memory_usage(deep=True)"
      ]
    },
    {
      "cell_type": "markdown",
      "metadata": {
        "id": "L5Hd3O3PCp5-"
      },
      "source": [
        "## Write pickle"
      ]
    },
    {
      "cell_type": "code",
      "execution_count": null,
      "metadata": {
        "colab": {
          "base_uri": "https://localhost:8080/",
          "height": 83,
          "referenced_widgets": [
            "b00d592f6e824f9f986213c0d1262d0a",
            "f9f1c34386ee4f2e86f068e8c8837d8a",
            "b45a36dd75dd4a45bca422704c621a3d",
            "c11d360baab0437baba082cbaf5d2e69",
            "3c63d8d2968247b68009758c27244ceb",
            "38e7ebc3c3b349c988fa4a57cf550a24",
            "34114253da864068a761071649cb6847",
            "d35dd24ef68747089bdb553ba969bc12"
          ]
        },
        "id": "91kED7DPiUbr",
        "outputId": "e19db7b4-c459-48b9-8090-1c54937822ee"
      },
      "outputs": [
        {
          "name": "stdout",
          "output_type": "stream",
          "text": [
            "CPU times: user 4 µs, sys: 0 ns, total: 4 µs\n",
            "Wall time: 9.54 µs\n"
          ]
        },
        {
          "data": {
            "application/vnd.jupyter.widget-view+json": {
              "model_id": "b00d592f6e824f9f986213c0d1262d0a",
              "version_major": 2,
              "version_minor": 0
            },
            "text/plain": [
              "HBox(children=(FloatProgress(value=0.0, max=3011125.0), HTML(value='')))"
            ]
          },
          "metadata": {
            "tags": []
          },
          "output_type": "display_data"
        }
      ],
      "source": [
        "%time\n",
        "\n",
        "random.seed(4)\n",
        "\n",
        "p = 0.8\n",
        "parts = [\"part-00000.lzo\", \"part-00001.lzo\"]\n",
        "\n",
        "history_u_lists = {}\n",
        "history_ur_lists = {}\n",
        "history_v_lists = {}\n",
        "history_vr_lists = {}\n",
        "train_u  = []\n",
        "test_u  = []\n",
        "train_v  = []\n",
        "test_v  = []\n",
        "train_r = [] \n",
        "test_r = []\n",
        "social_adj_lists = {}\n",
        "ratings = list(itertools.product([False, True], repeat=4))\n",
        "ratings_list = dict(zip(ratings, np.arange(16)))\n",
        "\n",
        "for part in parts:\n",
        "    df = unpack_to_df(\"/content/drive/Shareddrives/RecSys21/training/\" + part)\n",
        "    n = len(df)\n",
        "    train_samples = np.ones(n, dtype=bool)\n",
        "    train_samples[int(n*p):] = False\n",
        "    random.shuffle(train_samples)\n",
        "    pbar = tqdm(total=n)\n",
        "\n",
        "    for i, row in df.loc[:n-1, :].iterrows():\n",
        "        v_id = row[\"tweet_id\"]\n",
        "        u_id = row[\"enaging_user_id\"]\n",
        "        n_id = row[\"engaged_with_user_id\"]\n",
        "        undirected = row[\"engagee_follows_engager\"]\n",
        "        r_value = row[\"reaction\"]\n",
        "        is_train_sample = train_samples[i]\n",
        "        \n",
        "        if is_train_sample:\n",
        "            # build user-item graph\n",
        "            if u_id not in history_u_lists:\n",
        "                history_u_lists[u_id] = []\n",
        "                history_ur_lists[u_id] = []\n",
        "            history_u_lists[u_id].append(v_id)\n",
        "            history_ur_lists[u_id].append(r_value)\n",
        "\n",
        "            # build item-user graph\n",
        "            if v_id not in history_v_lists:\n",
        "                history_v_lists[v_id] = []\n",
        "                history_vr_lists[v_id] = []\n",
        "            history_v_lists[v_id].append(u_id)\n",
        "            history_vr_lists[v_id].append(r_value)\n",
        "\n",
        "            # build train set\n",
        "            train_u.append(u_id)\n",
        "            train_v.append(v_id)\n",
        "            train_r.append(r_value)\n",
        "        else:\n",
        "            # build test set\n",
        "            test_u.append(u_id)\n",
        "            test_v.append(v_id)\n",
        "            test_r.append(r_value)\n",
        "        \n",
        "        # build social graph\n",
        "        if u_id not in social_adj_lists:\n",
        "            social_adj_lists[u_id] = set()\n",
        "        social_adj_lists[u_id].add(n_id)\n",
        "\n",
        "        if undirected:\n",
        "            if n_id not in social_adj_lists:\n",
        "                social_adj_lists[n_id] = set()\n",
        "\n",
        "            social_adj_lists[n_id].add(u_id)\n",
        "        \n",
        "        pbar.update(1)\n",
        "    \n",
        "    pbar.close()\n",
        "    del df\n",
        "\n",
        "    with open('dataset.pickle', 'wb') as handle:\n",
        "        pickle.dump(\n",
        "            [history_u_lists, history_ur_lists, history_v_lists, history_vr_lists, train_u, train_v, train_r, test_u, test_v, test_r, social_adj_lists, ratings_list]\n",
        "        , handle, protocol=pickle.HIGHEST_PROTOCOL)\n",
        "    del handle\n"
      ]
    },
    {
      "cell_type": "code",
      "execution_count": 15,
      "metadata": {
        "id": "QqSV6APKFuCt"
      },
      "outputs": [],
      "source": [
        "# !cp dataset.pickle \"/content/drive/Shareddrives/RecSys21/pickle/part-0000[0_1].pickle\""
      ]
    },
    {
      "cell_type": "markdown",
      "metadata": {
        "id": "iugm2LsQCnNl"
      },
      "source": [
        "## Read pickle"
      ]
    },
    {
      "cell_type": "code",
      "execution_count": 20,
      "metadata": {
        "id": "_bjEE1PnnDeQ"
      },
      "outputs": [],
      "source": [
        "# with open('/content/drive/Shareddrives/RecSys21/pickle/part-00000.pickle', 'rb') as handle:\n",
        "with open('dataset.pickle', 'rb') as handle:\n",
        "    history_u_lists, history_ur_lists, history_v_lists, history_vr_lists, \\\n",
        "     train_u, train_v, train_r, test_u, test_v, test_r, social_adj_lists, ratings_list = pickle.load(handle)"
      ]
    },
    {
      "cell_type": "markdown",
      "metadata": {
        "id": "SAr32AaeWtjC"
      },
      "source": [
        "## Memory test"
      ]
    },
    {
      "cell_type": "code",
      "execution_count": null,
      "metadata": {
        "colab": {
          "base_uri": "https://localhost:8080/"
        },
        "id": "izckRGuBPq5d",
        "outputId": "230f5923-5a27-497b-e64a-47f3608c7ded"
      },
      "outputs": [
        {
          "data": {
            "text/plain": [
              "(40112, 80096, 80072, 80072)"
            ]
          },
          "execution_count": 44,
          "metadata": {
            "tags": []
          },
          "output_type": "execute_result"
        }
      ],
      "source": [
        "size = 10000\n",
        "a = np.random.choice(a=[False, True], size=(size,4))\n",
        "b = np.random.randint(0,15,size)\n",
        "sys.getsizeof(a), sys.getsizeof(b), sys.getsizeof(a.tolist()), sys.getsizeof(b.tolist())"
      ]
    },
    {
      "cell_type": "markdown",
      "metadata": {
        "id": "2XM17LNopYKS"
      },
      "source": [
        "# NEO4J API\n",
        "Wyciągnięcie danych dla potrzeb GraphRec korzystająć z paczek neo4j API"
      ]
    },
    {
      "cell_type": "code",
      "execution_count": 107,
      "metadata": {
        "id": "hhHqDCcdpzrD"
      },
      "outputs": [],
      "source": [
        "!pip install neo4j --quiet"
      ]
    },
    {
      "cell_type": "code",
      "execution_count": 108,
      "metadata": {
        "id": "MB9qPksCpyTc"
      },
      "outputs": [],
      "source": [
        "from neo4j import GraphDatabase"
      ]
    },
    {
      "cell_type": "code",
      "execution_count": 111,
      "metadata": {
        "id": "ALtn_eaUpfaG"
      },
      "outputs": [],
      "source": [
        "host = '46.101.246.118'\n",
        "user = 'neo4j'\n",
        "password = 'kochamPWR411'\n",
        "uri = f'bolt://{host}:7687'\n",
        "driver = GraphDatabase.driver(uri, auth=(user, password))\n",
        "db = driver.session()"
      ]
    },
    {
      "cell_type": "code",
      "execution_count": 112,
      "metadata": {
        "id": "qpwcUh94NFBO"
      },
      "outputs": [],
      "source": [
        "DATASET_SIZE = 10000"
      ]
    },
    {
      "cell_type": "code",
      "execution_count": 114,
      "metadata": {
        "colab": {
          "base_uri": "https://localhost:8080/",
          "height": 66,
          "referenced_widgets": [
            "74d411b048454a69b83118dbfecc563e",
            "dadfa5d06a3c43f7aebb1ebc318c82e5",
            "781f0703024546a3ac131a815d378a1a",
            "9a4e85c8225d4e9f80015ba4ce7b7218",
            "df457c3fa8ca4911bf4e62a3e799ca9a",
            "171a9e06bde64449a5fab6ed6606cad4",
            "be0385e8f1114545ae2171dc654548df",
            "491eda21c3c34cbcb5f317678388b960"
          ]
        },
        "id": "Gbk6tb18pvIM",
        "outputId": "9e26e7dc-994f-4b84-b144-645a422c8d85"
      },
      "outputs": [
        {
          "data": {
            "application/vnd.jupyter.widget-view+json": {
              "model_id": "74d411b048454a69b83118dbfecc563e",
              "version_major": 2,
              "version_minor": 0
            },
            "text/plain": [
              "HBox(children=(FloatProgress(value=0.0, max=10000.0), HTML(value='')))"
            ]
          },
          "metadata": {
            "tags": []
          },
          "output_type": "display_data"
        },
        {
          "name": "stdout",
          "output_type": "stream",
          "text": [
            "\n"
          ]
        }
      ],
      "source": [
        "# ==== u, v, r ====\n",
        "query = 'MATCH (u:User)-[r:Reply|Retweet|RetweetComment|Like]->(t:Tweet)\\\n",
        "         RETURN u.id as user, t.id as tweet, [type(r)=\"Reply\", type(r)=\"Retweet\", type(r)=\"RetweetComment\",type(r)=\"Like\"] as engagement \\\n",
        "         LIMIT %d' % (DATASET_SIZE)\n",
        "results = db.run(query)\n",
        "\n",
        "u, v, r = np.array([]), np.array([]), np.empty((0, 4), bool)\n",
        "\n",
        "pbar = tqdm(total=DATASET_SIZE)\n",
        "for res in results:\n",
        "    values = res.values()\n",
        "    u = np.append(u, values[0])\n",
        "    v = np.append(v, values[1])\n",
        "    r = np.append(r, [values[2]], axis=0)\n",
        "    pbar.update(1)\n",
        "    \n",
        "pbar.close()\n",
        "\n",
        "# ==== SPLIT TO TRAIN AND TEST ====\n",
        "train_u, test_u, train_v, test_v, train_r, test_r = train_test_split(u, v, r, test_size=0.33, random_state=42)\n",
        "del u, v, r"
      ]
    },
    {
      "cell_type": "code",
      "execution_count": 115,
      "metadata": {
        "colab": {
          "base_uri": "https://localhost:8080/",
          "height": 66,
          "referenced_widgets": [
            "05402b3e369b44d8820dc0af852ebb7a",
            "4ff098ac48c548ffbf38fc0c8459934d",
            "635d6434cf8140ac94463c81308ec25c",
            "d7e992c44b6248a48dd451f91d22badc",
            "a98555888be448eea28a36869be4fb00",
            "989c167f6a134382ab3fcace9a892583",
            "7e11f86a33a64665a35c7b0fdfc1220f",
            "31a06df230044b9187d946e07afb783a"
          ]
        },
        "id": "fx1pukQSspEl",
        "outputId": "b9b80b00-e4d0-4d2a-8214-4a6fb2dbeeb2"
      },
      "outputs": [
        {
          "data": {
            "application/vnd.jupyter.widget-view+json": {
              "model_id": "05402b3e369b44d8820dc0af852ebb7a",
              "version_major": 2,
              "version_minor": 0
            },
            "text/plain": [
              "HBox(children=(FloatProgress(value=0.0, max=1262.0), HTML(value='')))"
            ]
          },
          "metadata": {
            "tags": []
          },
          "output_type": "display_data"
        },
        {
          "name": "stdout",
          "output_type": "stream",
          "text": [
            "\n"
          ]
        }
      ],
      "source": [
        "# ==== history_u_lists, history_ur_lists ====\n",
        "\n",
        "# UWAGA: Wektory one-hot. Trzeba dać OR dla wektorów rankingu z tym samym id\n",
        "query_template = 'MATCH (u:User {id: \"%s\"})-[r:Like|Reply|Retweet|RetweetComment]->(t:Tweet)\\\n",
        "         RETURN collect(t.id), collect([type(r)=\"Reply\", type(r)=\"Retweet\", type(r)=\"RetweetComment\",type(r)=\"Like\"])'\n",
        "\n",
        "history_u_lists = {}\n",
        "history_ur_lists = {}\n",
        "\n",
        "ids = set(train_u)\n",
        "pbar = tqdm(total=len(ids))\n",
        "\n",
        "for u_id in ids:\n",
        "    results = db.run(query_template % (u_id))\n",
        "\n",
        "    for res in results:\n",
        "        values = res.values()\n",
        "        v_list = values[0]\n",
        "        r_list = values[1]\n",
        "\n",
        "        history_u_lists[u_id] = v_list\n",
        "        history_ur_lists[u_id] = r_list \n",
        "\n",
        "    pbar.update(1)\n",
        "pbar.close()"
      ]
    },
    {
      "cell_type": "code",
      "execution_count": null,
      "metadata": {
        "colab": {
          "base_uri": "https://localhost:8080/",
          "height": 49,
          "referenced_widgets": [
            "faa2c20a9bf24c1794ee4847ab4ed8a8",
            "8592589b12114abeaed1c5974c3d7df6",
            "afceb98b33244a58a7ce2acfa572b5ad",
            "c2de7a5e9ffb4ff99a660ef0d92a0b88",
            "1be68803b19944e3a5e819f5bd7b0e25",
            "c3145d45f14a4d498c175f2bd9e29822",
            "c36f286319614d14bef946f25fc03821",
            "99c137a9041f4357b07f9926c1f64453"
          ]
        },
        "id": "EhE862M3EvEK",
        "outputId": "b19537a5-9cde-49c8-ab80-9ebbf499f320"
      },
      "outputs": [
        {
          "data": {
            "application/vnd.jupyter.widget-view+json": {
              "model_id": "faa2c20a9bf24c1794ee4847ab4ed8a8",
              "version_major": 2,
              "version_minor": 0
            },
            "text/plain": [
              "HBox(children=(FloatProgress(value=0.0, max=6407.0), HTML(value='')))"
            ]
          },
          "metadata": {
            "tags": []
          },
          "output_type": "display_data"
        }
      ],
      "source": [
        "# ==== history_v_lists, history_vr_lists ====\n",
        "\n",
        "query_template = 'MATCH (u:User)-[r:Like|Reply|Retweet|RetweetComment]->(t:Tweet {id: \"%s\"}) \\\n",
        "                  RETURN collect(u.id), collect([type(r)=\"Reply\", type(r)=\"Retweet\", type(r)=\"RetweetComment\", type(r)=\"Like\"])'\n",
        "\n",
        "history_v_lists = {}\n",
        "history_vr_lists = {}\n",
        "\n",
        "ids = set(train_v)\n",
        "pbar = tqdm(total=len(ids))\n",
        "\n",
        "for v_id in ids:\n",
        "    results = db.run(query_template % (v_id))\n",
        "\n",
        "    for res in results:\n",
        "        values = res.values()\n",
        "        u_list = values[0]\n",
        "        r_list = values[1]\n",
        "\n",
        "        history_v_lists[v_id] = v_list\n",
        "        history_ur_lists[u_id] = r_list\n",
        "\n",
        "    pbar.update(1)\n",
        "pbar.close() "
      ]
    },
    {
      "cell_type": "code",
      "execution_count": 77,
      "metadata": {
        "id": "QodQempvFmzR"
      },
      "outputs": [],
      "source": [
        "# ==== social_adj_lists ====\n",
        "\n",
        "query_template = 'MATCH (u:User {id: \"%s\"})-[:Follow]->(n: User) RETURN collect(n.id)'\n",
        "\n",
        "social_adj_lists = {}\n",
        "\n",
        "ids = set(train_u)\n",
        "pbar = tqdm(total=len(ids))\n",
        "\n",
        "for u_id in ids:\n",
        "    results = db.run(query_template % (u_id))\n",
        "\n",
        "    for res in results:\n",
        "        values = res.values()\n",
        "        n_list = values[0]\n",
        "        social_adj_lists[u_id] = n_list\n",
        "    pbar.update(1)\n",
        "pbar.close() "
      ]
    },
    {
      "cell_type": "code",
      "execution_count": null,
      "metadata": {
        "id": "pFDSzRljNprO"
      },
      "outputs": [],
      "source": [
        "# ==== ratings_list ====\n",
        "\n",
        "ratings = list(itertools.product([False, True], repeat=4))\n",
        "ratings_list = dict(zip(ratings, np.arange(16)))"
      ]
    },
    {
      "cell_type": "markdown",
      "metadata": {
        "id": "kQh4fThbQmbq"
      },
      "source": [
        "## Write pickle"
      ]
    },
    {
      "cell_type": "code",
      "execution_count": null,
      "metadata": {
        "id": "jHotPlFZQltt"
      },
      "outputs": [],
      "source": [
        "with open('/content/drive/Shareddrives/RecSys21/pickle/neo4j_%d.pickle' % (DATASET_SIZE), 'wb') as handle:\n",
        "    pickle.dump(\n",
        "        [history_u_lists, history_ur_lists, history_v_lists, history_vr_lists, train_u, train_v, train_r, test_u, test_v, test_r, social_adj_lists, ratings_list]\n",
        "    , handle, protocol=pickle.HIGHEST_PROTOCOL)\n",
        "del handle"
      ]
    },
    {
      "cell_type": "code",
      "execution_count": null,
      "metadata": {
        "id": "eW6un04wprMd"
      },
      "outputs": [],
      "source": [
        "driver.close()"
      ]
    }
  ],
  "metadata": {
    "colab": {
      "collapsed_sections": [
        "LgMlxagVCeRQ",
        "QmMhPxwNER03"
      ],
      "name": "GraphRec POC.ipynb",
      "provenance": []
    },
    "kernelspec": {
      "display_name": "Python 3",
      "name": "python3"
    },
    "language_info": {
      "name": "python"
    },
    "widgets": {
      "application/vnd.jupyter.widget-state+json": {
        "05402b3e369b44d8820dc0af852ebb7a": {
          "model_module": "@jupyter-widgets/controls",
          "model_name": "HBoxModel",
          "state": {
            "_dom_classes": [],
            "_model_module": "@jupyter-widgets/controls",
            "_model_module_version": "1.5.0",
            "_model_name": "HBoxModel",
            "_view_count": null,
            "_view_module": "@jupyter-widgets/controls",
            "_view_module_version": "1.5.0",
            "_view_name": "HBoxView",
            "box_style": "",
            "children": [
              "IPY_MODEL_635d6434cf8140ac94463c81308ec25c",
              "IPY_MODEL_d7e992c44b6248a48dd451f91d22badc"
            ],
            "layout": "IPY_MODEL_4ff098ac48c548ffbf38fc0c8459934d"
          }
        },
        "171a9e06bde64449a5fab6ed6606cad4": {
          "model_module": "@jupyter-widgets/base",
          "model_name": "LayoutModel",
          "state": {
            "_model_module": "@jupyter-widgets/base",
            "_model_module_version": "1.2.0",
            "_model_name": "LayoutModel",
            "_view_count": null,
            "_view_module": "@jupyter-widgets/base",
            "_view_module_version": "1.2.0",
            "_view_name": "LayoutView",
            "align_content": null,
            "align_items": null,
            "align_self": null,
            "border": null,
            "bottom": null,
            "display": null,
            "flex": null,
            "flex_flow": null,
            "grid_area": null,
            "grid_auto_columns": null,
            "grid_auto_flow": null,
            "grid_auto_rows": null,
            "grid_column": null,
            "grid_gap": null,
            "grid_row": null,
            "grid_template_areas": null,
            "grid_template_columns": null,
            "grid_template_rows": null,
            "height": null,
            "justify_content": null,
            "justify_items": null,
            "left": null,
            "margin": null,
            "max_height": null,
            "max_width": null,
            "min_height": null,
            "min_width": null,
            "object_fit": null,
            "object_position": null,
            "order": null,
            "overflow": null,
            "overflow_x": null,
            "overflow_y": null,
            "padding": null,
            "right": null,
            "top": null,
            "visibility": null,
            "width": null
          }
        },
        "1be68803b19944e3a5e819f5bd7b0e25": {
          "model_module": "@jupyter-widgets/controls",
          "model_name": "ProgressStyleModel",
          "state": {
            "_model_module": "@jupyter-widgets/controls",
            "_model_module_version": "1.5.0",
            "_model_name": "ProgressStyleModel",
            "_view_count": null,
            "_view_module": "@jupyter-widgets/base",
            "_view_module_version": "1.2.0",
            "_view_name": "StyleView",
            "bar_color": null,
            "description_width": "initial"
          }
        },
        "31a06df230044b9187d946e07afb783a": {
          "model_module": "@jupyter-widgets/base",
          "model_name": "LayoutModel",
          "state": {
            "_model_module": "@jupyter-widgets/base",
            "_model_module_version": "1.2.0",
            "_model_name": "LayoutModel",
            "_view_count": null,
            "_view_module": "@jupyter-widgets/base",
            "_view_module_version": "1.2.0",
            "_view_name": "LayoutView",
            "align_content": null,
            "align_items": null,
            "align_self": null,
            "border": null,
            "bottom": null,
            "display": null,
            "flex": null,
            "flex_flow": null,
            "grid_area": null,
            "grid_auto_columns": null,
            "grid_auto_flow": null,
            "grid_auto_rows": null,
            "grid_column": null,
            "grid_gap": null,
            "grid_row": null,
            "grid_template_areas": null,
            "grid_template_columns": null,
            "grid_template_rows": null,
            "height": null,
            "justify_content": null,
            "justify_items": null,
            "left": null,
            "margin": null,
            "max_height": null,
            "max_width": null,
            "min_height": null,
            "min_width": null,
            "object_fit": null,
            "object_position": null,
            "order": null,
            "overflow": null,
            "overflow_x": null,
            "overflow_y": null,
            "padding": null,
            "right": null,
            "top": null,
            "visibility": null,
            "width": null
          }
        },
        "34114253da864068a761071649cb6847": {
          "model_module": "@jupyter-widgets/controls",
          "model_name": "DescriptionStyleModel",
          "state": {
            "_model_module": "@jupyter-widgets/controls",
            "_model_module_version": "1.5.0",
            "_model_name": "DescriptionStyleModel",
            "_view_count": null,
            "_view_module": "@jupyter-widgets/base",
            "_view_module_version": "1.2.0",
            "_view_name": "StyleView",
            "description_width": ""
          }
        },
        "38e7ebc3c3b349c988fa4a57cf550a24": {
          "model_module": "@jupyter-widgets/base",
          "model_name": "LayoutModel",
          "state": {
            "_model_module": "@jupyter-widgets/base",
            "_model_module_version": "1.2.0",
            "_model_name": "LayoutModel",
            "_view_count": null,
            "_view_module": "@jupyter-widgets/base",
            "_view_module_version": "1.2.0",
            "_view_name": "LayoutView",
            "align_content": null,
            "align_items": null,
            "align_self": null,
            "border": null,
            "bottom": null,
            "display": null,
            "flex": null,
            "flex_flow": null,
            "grid_area": null,
            "grid_auto_columns": null,
            "grid_auto_flow": null,
            "grid_auto_rows": null,
            "grid_column": null,
            "grid_gap": null,
            "grid_row": null,
            "grid_template_areas": null,
            "grid_template_columns": null,
            "grid_template_rows": null,
            "height": null,
            "justify_content": null,
            "justify_items": null,
            "left": null,
            "margin": null,
            "max_height": null,
            "max_width": null,
            "min_height": null,
            "min_width": null,
            "object_fit": null,
            "object_position": null,
            "order": null,
            "overflow": null,
            "overflow_x": null,
            "overflow_y": null,
            "padding": null,
            "right": null,
            "top": null,
            "visibility": null,
            "width": null
          }
        },
        "3c63d8d2968247b68009758c27244ceb": {
          "model_module": "@jupyter-widgets/controls",
          "model_name": "ProgressStyleModel",
          "state": {
            "_model_module": "@jupyter-widgets/controls",
            "_model_module_version": "1.5.0",
            "_model_name": "ProgressStyleModel",
            "_view_count": null,
            "_view_module": "@jupyter-widgets/base",
            "_view_module_version": "1.2.0",
            "_view_name": "StyleView",
            "bar_color": null,
            "description_width": "initial"
          }
        },
        "491eda21c3c34cbcb5f317678388b960": {
          "model_module": "@jupyter-widgets/base",
          "model_name": "LayoutModel",
          "state": {
            "_model_module": "@jupyter-widgets/base",
            "_model_module_version": "1.2.0",
            "_model_name": "LayoutModel",
            "_view_count": null,
            "_view_module": "@jupyter-widgets/base",
            "_view_module_version": "1.2.0",
            "_view_name": "LayoutView",
            "align_content": null,
            "align_items": null,
            "align_self": null,
            "border": null,
            "bottom": null,
            "display": null,
            "flex": null,
            "flex_flow": null,
            "grid_area": null,
            "grid_auto_columns": null,
            "grid_auto_flow": null,
            "grid_auto_rows": null,
            "grid_column": null,
            "grid_gap": null,
            "grid_row": null,
            "grid_template_areas": null,
            "grid_template_columns": null,
            "grid_template_rows": null,
            "height": null,
            "justify_content": null,
            "justify_items": null,
            "left": null,
            "margin": null,
            "max_height": null,
            "max_width": null,
            "min_height": null,
            "min_width": null,
            "object_fit": null,
            "object_position": null,
            "order": null,
            "overflow": null,
            "overflow_x": null,
            "overflow_y": null,
            "padding": null,
            "right": null,
            "top": null,
            "visibility": null,
            "width": null
          }
        },
        "4ff098ac48c548ffbf38fc0c8459934d": {
          "model_module": "@jupyter-widgets/base",
          "model_name": "LayoutModel",
          "state": {
            "_model_module": "@jupyter-widgets/base",
            "_model_module_version": "1.2.0",
            "_model_name": "LayoutModel",
            "_view_count": null,
            "_view_module": "@jupyter-widgets/base",
            "_view_module_version": "1.2.0",
            "_view_name": "LayoutView",
            "align_content": null,
            "align_items": null,
            "align_self": null,
            "border": null,
            "bottom": null,
            "display": null,
            "flex": null,
            "flex_flow": null,
            "grid_area": null,
            "grid_auto_columns": null,
            "grid_auto_flow": null,
            "grid_auto_rows": null,
            "grid_column": null,
            "grid_gap": null,
            "grid_row": null,
            "grid_template_areas": null,
            "grid_template_columns": null,
            "grid_template_rows": null,
            "height": null,
            "justify_content": null,
            "justify_items": null,
            "left": null,
            "margin": null,
            "max_height": null,
            "max_width": null,
            "min_height": null,
            "min_width": null,
            "object_fit": null,
            "object_position": null,
            "order": null,
            "overflow": null,
            "overflow_x": null,
            "overflow_y": null,
            "padding": null,
            "right": null,
            "top": null,
            "visibility": null,
            "width": null
          }
        },
        "635d6434cf8140ac94463c81308ec25c": {
          "model_module": "@jupyter-widgets/controls",
          "model_name": "FloatProgressModel",
          "state": {
            "_dom_classes": [],
            "_model_module": "@jupyter-widgets/controls",
            "_model_module_version": "1.5.0",
            "_model_name": "FloatProgressModel",
            "_view_count": null,
            "_view_module": "@jupyter-widgets/controls",
            "_view_module_version": "1.5.0",
            "_view_name": "ProgressView",
            "bar_style": "success",
            "description": "100%",
            "description_tooltip": null,
            "layout": "IPY_MODEL_989c167f6a134382ab3fcace9a892583",
            "max": 1262,
            "min": 0,
            "orientation": "horizontal",
            "style": "IPY_MODEL_a98555888be448eea28a36869be4fb00",
            "value": 1262
          }
        },
        "74d411b048454a69b83118dbfecc563e": {
          "model_module": "@jupyter-widgets/controls",
          "model_name": "HBoxModel",
          "state": {
            "_dom_classes": [],
            "_model_module": "@jupyter-widgets/controls",
            "_model_module_version": "1.5.0",
            "_model_name": "HBoxModel",
            "_view_count": null,
            "_view_module": "@jupyter-widgets/controls",
            "_view_module_version": "1.5.0",
            "_view_name": "HBoxView",
            "box_style": "",
            "children": [
              "IPY_MODEL_781f0703024546a3ac131a815d378a1a",
              "IPY_MODEL_9a4e85c8225d4e9f80015ba4ce7b7218"
            ],
            "layout": "IPY_MODEL_dadfa5d06a3c43f7aebb1ebc318c82e5"
          }
        },
        "781f0703024546a3ac131a815d378a1a": {
          "model_module": "@jupyter-widgets/controls",
          "model_name": "FloatProgressModel",
          "state": {
            "_dom_classes": [],
            "_model_module": "@jupyter-widgets/controls",
            "_model_module_version": "1.5.0",
            "_model_name": "FloatProgressModel",
            "_view_count": null,
            "_view_module": "@jupyter-widgets/controls",
            "_view_module_version": "1.5.0",
            "_view_name": "ProgressView",
            "bar_style": "success",
            "description": "100%",
            "description_tooltip": null,
            "layout": "IPY_MODEL_171a9e06bde64449a5fab6ed6606cad4",
            "max": 10000,
            "min": 0,
            "orientation": "horizontal",
            "style": "IPY_MODEL_df457c3fa8ca4911bf4e62a3e799ca9a",
            "value": 10000
          }
        },
        "7e11f86a33a64665a35c7b0fdfc1220f": {
          "model_module": "@jupyter-widgets/controls",
          "model_name": "DescriptionStyleModel",
          "state": {
            "_model_module": "@jupyter-widgets/controls",
            "_model_module_version": "1.5.0",
            "_model_name": "DescriptionStyleModel",
            "_view_count": null,
            "_view_module": "@jupyter-widgets/base",
            "_view_module_version": "1.2.0",
            "_view_name": "StyleView",
            "description_width": ""
          }
        },
        "8592589b12114abeaed1c5974c3d7df6": {
          "model_module": "@jupyter-widgets/base",
          "model_name": "LayoutModel",
          "state": {
            "_model_module": "@jupyter-widgets/base",
            "_model_module_version": "1.2.0",
            "_model_name": "LayoutModel",
            "_view_count": null,
            "_view_module": "@jupyter-widgets/base",
            "_view_module_version": "1.2.0",
            "_view_name": "LayoutView",
            "align_content": null,
            "align_items": null,
            "align_self": null,
            "border": null,
            "bottom": null,
            "display": null,
            "flex": null,
            "flex_flow": null,
            "grid_area": null,
            "grid_auto_columns": null,
            "grid_auto_flow": null,
            "grid_auto_rows": null,
            "grid_column": null,
            "grid_gap": null,
            "grid_row": null,
            "grid_template_areas": null,
            "grid_template_columns": null,
            "grid_template_rows": null,
            "height": null,
            "justify_content": null,
            "justify_items": null,
            "left": null,
            "margin": null,
            "max_height": null,
            "max_width": null,
            "min_height": null,
            "min_width": null,
            "object_fit": null,
            "object_position": null,
            "order": null,
            "overflow": null,
            "overflow_x": null,
            "overflow_y": null,
            "padding": null,
            "right": null,
            "top": null,
            "visibility": null,
            "width": null
          }
        },
        "989c167f6a134382ab3fcace9a892583": {
          "model_module": "@jupyter-widgets/base",
          "model_name": "LayoutModel",
          "state": {
            "_model_module": "@jupyter-widgets/base",
            "_model_module_version": "1.2.0",
            "_model_name": "LayoutModel",
            "_view_count": null,
            "_view_module": "@jupyter-widgets/base",
            "_view_module_version": "1.2.0",
            "_view_name": "LayoutView",
            "align_content": null,
            "align_items": null,
            "align_self": null,
            "border": null,
            "bottom": null,
            "display": null,
            "flex": null,
            "flex_flow": null,
            "grid_area": null,
            "grid_auto_columns": null,
            "grid_auto_flow": null,
            "grid_auto_rows": null,
            "grid_column": null,
            "grid_gap": null,
            "grid_row": null,
            "grid_template_areas": null,
            "grid_template_columns": null,
            "grid_template_rows": null,
            "height": null,
            "justify_content": null,
            "justify_items": null,
            "left": null,
            "margin": null,
            "max_height": null,
            "max_width": null,
            "min_height": null,
            "min_width": null,
            "object_fit": null,
            "object_position": null,
            "order": null,
            "overflow": null,
            "overflow_x": null,
            "overflow_y": null,
            "padding": null,
            "right": null,
            "top": null,
            "visibility": null,
            "width": null
          }
        },
        "99c137a9041f4357b07f9926c1f64453": {
          "model_module": "@jupyter-widgets/base",
          "model_name": "LayoutModel",
          "state": {
            "_model_module": "@jupyter-widgets/base",
            "_model_module_version": "1.2.0",
            "_model_name": "LayoutModel",
            "_view_count": null,
            "_view_module": "@jupyter-widgets/base",
            "_view_module_version": "1.2.0",
            "_view_name": "LayoutView",
            "align_content": null,
            "align_items": null,
            "align_self": null,
            "border": null,
            "bottom": null,
            "display": null,
            "flex": null,
            "flex_flow": null,
            "grid_area": null,
            "grid_auto_columns": null,
            "grid_auto_flow": null,
            "grid_auto_rows": null,
            "grid_column": null,
            "grid_gap": null,
            "grid_row": null,
            "grid_template_areas": null,
            "grid_template_columns": null,
            "grid_template_rows": null,
            "height": null,
            "justify_content": null,
            "justify_items": null,
            "left": null,
            "margin": null,
            "max_height": null,
            "max_width": null,
            "min_height": null,
            "min_width": null,
            "object_fit": null,
            "object_position": null,
            "order": null,
            "overflow": null,
            "overflow_x": null,
            "overflow_y": null,
            "padding": null,
            "right": null,
            "top": null,
            "visibility": null,
            "width": null
          }
        },
        "9a4e85c8225d4e9f80015ba4ce7b7218": {
          "model_module": "@jupyter-widgets/controls",
          "model_name": "HTMLModel",
          "state": {
            "_dom_classes": [],
            "_model_module": "@jupyter-widgets/controls",
            "_model_module_version": "1.5.0",
            "_model_name": "HTMLModel",
            "_view_count": null,
            "_view_module": "@jupyter-widgets/controls",
            "_view_module_version": "1.5.0",
            "_view_name": "HTMLView",
            "description": "",
            "description_tooltip": null,
            "layout": "IPY_MODEL_491eda21c3c34cbcb5f317678388b960",
            "placeholder": "​",
            "style": "IPY_MODEL_be0385e8f1114545ae2171dc654548df",
            "value": " 10000/10000 [00:07&lt;00:00, 1340.44it/s]"
          }
        },
        "a98555888be448eea28a36869be4fb00": {
          "model_module": "@jupyter-widgets/controls",
          "model_name": "ProgressStyleModel",
          "state": {
            "_model_module": "@jupyter-widgets/controls",
            "_model_module_version": "1.5.0",
            "_model_name": "ProgressStyleModel",
            "_view_count": null,
            "_view_module": "@jupyter-widgets/base",
            "_view_module_version": "1.2.0",
            "_view_name": "StyleView",
            "bar_color": null,
            "description_width": "initial"
          }
        },
        "afceb98b33244a58a7ce2acfa572b5ad": {
          "model_module": "@jupyter-widgets/controls",
          "model_name": "FloatProgressModel",
          "state": {
            "_dom_classes": [],
            "_model_module": "@jupyter-widgets/controls",
            "_model_module_version": "1.5.0",
            "_model_name": "FloatProgressModel",
            "_view_count": null,
            "_view_module": "@jupyter-widgets/controls",
            "_view_module_version": "1.5.0",
            "_view_name": "ProgressView",
            "bar_style": "",
            "description": " 62%",
            "description_tooltip": null,
            "layout": "IPY_MODEL_c3145d45f14a4d498c175f2bd9e29822",
            "max": 6407,
            "min": 0,
            "orientation": "horizontal",
            "style": "IPY_MODEL_1be68803b19944e3a5e819f5bd7b0e25",
            "value": 3983
          }
        },
        "b00d592f6e824f9f986213c0d1262d0a": {
          "model_module": "@jupyter-widgets/controls",
          "model_name": "HBoxModel",
          "state": {
            "_dom_classes": [],
            "_model_module": "@jupyter-widgets/controls",
            "_model_module_version": "1.5.0",
            "_model_name": "HBoxModel",
            "_view_count": null,
            "_view_module": "@jupyter-widgets/controls",
            "_view_module_version": "1.5.0",
            "_view_name": "HBoxView",
            "box_style": "",
            "children": [
              "IPY_MODEL_b45a36dd75dd4a45bca422704c621a3d",
              "IPY_MODEL_c11d360baab0437baba082cbaf5d2e69"
            ],
            "layout": "IPY_MODEL_f9f1c34386ee4f2e86f068e8c8837d8a"
          }
        },
        "b45a36dd75dd4a45bca422704c621a3d": {
          "model_module": "@jupyter-widgets/controls",
          "model_name": "FloatProgressModel",
          "state": {
            "_dom_classes": [],
            "_model_module": "@jupyter-widgets/controls",
            "_model_module_version": "1.5.0",
            "_model_name": "FloatProgressModel",
            "_view_count": null,
            "_view_module": "@jupyter-widgets/controls",
            "_view_module_version": "1.5.0",
            "_view_name": "ProgressView",
            "bar_style": "",
            "description": " 71%",
            "description_tooltip": null,
            "layout": "IPY_MODEL_38e7ebc3c3b349c988fa4a57cf550a24",
            "max": 3011125,
            "min": 0,
            "orientation": "horizontal",
            "style": "IPY_MODEL_3c63d8d2968247b68009758c27244ceb",
            "value": 2126154
          }
        },
        "be0385e8f1114545ae2171dc654548df": {
          "model_module": "@jupyter-widgets/controls",
          "model_name": "DescriptionStyleModel",
          "state": {
            "_model_module": "@jupyter-widgets/controls",
            "_model_module_version": "1.5.0",
            "_model_name": "DescriptionStyleModel",
            "_view_count": null,
            "_view_module": "@jupyter-widgets/base",
            "_view_module_version": "1.2.0",
            "_view_name": "StyleView",
            "description_width": ""
          }
        },
        "c11d360baab0437baba082cbaf5d2e69": {
          "model_module": "@jupyter-widgets/controls",
          "model_name": "HTMLModel",
          "state": {
            "_dom_classes": [],
            "_model_module": "@jupyter-widgets/controls",
            "_model_module_version": "1.5.0",
            "_model_name": "HTMLModel",
            "_view_count": null,
            "_view_module": "@jupyter-widgets/controls",
            "_view_module_version": "1.5.0",
            "_view_name": "HTMLView",
            "description": "",
            "description_tooltip": null,
            "layout": "IPY_MODEL_d35dd24ef68747089bdb553ba969bc12",
            "placeholder": "​",
            "style": "IPY_MODEL_34114253da864068a761071649cb6847",
            "value": " 2126154/3011125 [05:10&lt;02:03, 7194.27it/s]"
          }
        },
        "c2de7a5e9ffb4ff99a660ef0d92a0b88": {
          "model_module": "@jupyter-widgets/controls",
          "model_name": "HTMLModel",
          "state": {
            "_dom_classes": [],
            "_model_module": "@jupyter-widgets/controls",
            "_model_module_version": "1.5.0",
            "_model_name": "HTMLModel",
            "_view_count": null,
            "_view_module": "@jupyter-widgets/controls",
            "_view_module_version": "1.5.0",
            "_view_name": "HTMLView",
            "description": "",
            "description_tooltip": null,
            "layout": "IPY_MODEL_99c137a9041f4357b07f9926c1f64453",
            "placeholder": "​",
            "style": "IPY_MODEL_c36f286319614d14bef946f25fc03821",
            "value": " 3983/6407 [10:05&lt;06:00,  6.73it/s]"
          }
        },
        "c3145d45f14a4d498c175f2bd9e29822": {
          "model_module": "@jupyter-widgets/base",
          "model_name": "LayoutModel",
          "state": {
            "_model_module": "@jupyter-widgets/base",
            "_model_module_version": "1.2.0",
            "_model_name": "LayoutModel",
            "_view_count": null,
            "_view_module": "@jupyter-widgets/base",
            "_view_module_version": "1.2.0",
            "_view_name": "LayoutView",
            "align_content": null,
            "align_items": null,
            "align_self": null,
            "border": null,
            "bottom": null,
            "display": null,
            "flex": null,
            "flex_flow": null,
            "grid_area": null,
            "grid_auto_columns": null,
            "grid_auto_flow": null,
            "grid_auto_rows": null,
            "grid_column": null,
            "grid_gap": null,
            "grid_row": null,
            "grid_template_areas": null,
            "grid_template_columns": null,
            "grid_template_rows": null,
            "height": null,
            "justify_content": null,
            "justify_items": null,
            "left": null,
            "margin": null,
            "max_height": null,
            "max_width": null,
            "min_height": null,
            "min_width": null,
            "object_fit": null,
            "object_position": null,
            "order": null,
            "overflow": null,
            "overflow_x": null,
            "overflow_y": null,
            "padding": null,
            "right": null,
            "top": null,
            "visibility": null,
            "width": null
          }
        },
        "c36f286319614d14bef946f25fc03821": {
          "model_module": "@jupyter-widgets/controls",
          "model_name": "DescriptionStyleModel",
          "state": {
            "_model_module": "@jupyter-widgets/controls",
            "_model_module_version": "1.5.0",
            "_model_name": "DescriptionStyleModel",
            "_view_count": null,
            "_view_module": "@jupyter-widgets/base",
            "_view_module_version": "1.2.0",
            "_view_name": "StyleView",
            "description_width": ""
          }
        },
        "d35dd24ef68747089bdb553ba969bc12": {
          "model_module": "@jupyter-widgets/base",
          "model_name": "LayoutModel",
          "state": {
            "_model_module": "@jupyter-widgets/base",
            "_model_module_version": "1.2.0",
            "_model_name": "LayoutModel",
            "_view_count": null,
            "_view_module": "@jupyter-widgets/base",
            "_view_module_version": "1.2.0",
            "_view_name": "LayoutView",
            "align_content": null,
            "align_items": null,
            "align_self": null,
            "border": null,
            "bottom": null,
            "display": null,
            "flex": null,
            "flex_flow": null,
            "grid_area": null,
            "grid_auto_columns": null,
            "grid_auto_flow": null,
            "grid_auto_rows": null,
            "grid_column": null,
            "grid_gap": null,
            "grid_row": null,
            "grid_template_areas": null,
            "grid_template_columns": null,
            "grid_template_rows": null,
            "height": null,
            "justify_content": null,
            "justify_items": null,
            "left": null,
            "margin": null,
            "max_height": null,
            "max_width": null,
            "min_height": null,
            "min_width": null,
            "object_fit": null,
            "object_position": null,
            "order": null,
            "overflow": null,
            "overflow_x": null,
            "overflow_y": null,
            "padding": null,
            "right": null,
            "top": null,
            "visibility": null,
            "width": null
          }
        },
        "d7e992c44b6248a48dd451f91d22badc": {
          "model_module": "@jupyter-widgets/controls",
          "model_name": "HTMLModel",
          "state": {
            "_dom_classes": [],
            "_model_module": "@jupyter-widgets/controls",
            "_model_module_version": "1.5.0",
            "_model_name": "HTMLModel",
            "_view_count": null,
            "_view_module": "@jupyter-widgets/controls",
            "_view_module_version": "1.5.0",
            "_view_name": "HTMLView",
            "description": "",
            "description_tooltip": null,
            "layout": "IPY_MODEL_31a06df230044b9187d946e07afb783a",
            "placeholder": "​",
            "style": "IPY_MODEL_7e11f86a33a64665a35c7b0fdfc1220f",
            "value": " 1262/1262 [03:19&lt;00:00,  6.33it/s]"
          }
        },
        "dadfa5d06a3c43f7aebb1ebc318c82e5": {
          "model_module": "@jupyter-widgets/base",
          "model_name": "LayoutModel",
          "state": {
            "_model_module": "@jupyter-widgets/base",
            "_model_module_version": "1.2.0",
            "_model_name": "LayoutModel",
            "_view_count": null,
            "_view_module": "@jupyter-widgets/base",
            "_view_module_version": "1.2.0",
            "_view_name": "LayoutView",
            "align_content": null,
            "align_items": null,
            "align_self": null,
            "border": null,
            "bottom": null,
            "display": null,
            "flex": null,
            "flex_flow": null,
            "grid_area": null,
            "grid_auto_columns": null,
            "grid_auto_flow": null,
            "grid_auto_rows": null,
            "grid_column": null,
            "grid_gap": null,
            "grid_row": null,
            "grid_template_areas": null,
            "grid_template_columns": null,
            "grid_template_rows": null,
            "height": null,
            "justify_content": null,
            "justify_items": null,
            "left": null,
            "margin": null,
            "max_height": null,
            "max_width": null,
            "min_height": null,
            "min_width": null,
            "object_fit": null,
            "object_position": null,
            "order": null,
            "overflow": null,
            "overflow_x": null,
            "overflow_y": null,
            "padding": null,
            "right": null,
            "top": null,
            "visibility": null,
            "width": null
          }
        },
        "df457c3fa8ca4911bf4e62a3e799ca9a": {
          "model_module": "@jupyter-widgets/controls",
          "model_name": "ProgressStyleModel",
          "state": {
            "_model_module": "@jupyter-widgets/controls",
            "_model_module_version": "1.5.0",
            "_model_name": "ProgressStyleModel",
            "_view_count": null,
            "_view_module": "@jupyter-widgets/base",
            "_view_module_version": "1.2.0",
            "_view_name": "StyleView",
            "bar_color": null,
            "description_width": "initial"
          }
        },
        "f9f1c34386ee4f2e86f068e8c8837d8a": {
          "model_module": "@jupyter-widgets/base",
          "model_name": "LayoutModel",
          "state": {
            "_model_module": "@jupyter-widgets/base",
            "_model_module_version": "1.2.0",
            "_model_name": "LayoutModel",
            "_view_count": null,
            "_view_module": "@jupyter-widgets/base",
            "_view_module_version": "1.2.0",
            "_view_name": "LayoutView",
            "align_content": null,
            "align_items": null,
            "align_self": null,
            "border": null,
            "bottom": null,
            "display": null,
            "flex": null,
            "flex_flow": null,
            "grid_area": null,
            "grid_auto_columns": null,
            "grid_auto_flow": null,
            "grid_auto_rows": null,
            "grid_column": null,
            "grid_gap": null,
            "grid_row": null,
            "grid_template_areas": null,
            "grid_template_columns": null,
            "grid_template_rows": null,
            "height": null,
            "justify_content": null,
            "justify_items": null,
            "left": null,
            "margin": null,
            "max_height": null,
            "max_width": null,
            "min_height": null,
            "min_width": null,
            "object_fit": null,
            "object_position": null,
            "order": null,
            "overflow": null,
            "overflow_x": null,
            "overflow_y": null,
            "padding": null,
            "right": null,
            "top": null,
            "visibility": null,
            "width": null
          }
        },
        "faa2c20a9bf24c1794ee4847ab4ed8a8": {
          "model_module": "@jupyter-widgets/controls",
          "model_name": "HBoxModel",
          "state": {
            "_dom_classes": [],
            "_model_module": "@jupyter-widgets/controls",
            "_model_module_version": "1.5.0",
            "_model_name": "HBoxModel",
            "_view_count": null,
            "_view_module": "@jupyter-widgets/controls",
            "_view_module_version": "1.5.0",
            "_view_name": "HBoxView",
            "box_style": "",
            "children": [
              "IPY_MODEL_afceb98b33244a58a7ce2acfa572b5ad",
              "IPY_MODEL_c2de7a5e9ffb4ff99a660ef0d92a0b88"
            ],
            "layout": "IPY_MODEL_8592589b12114abeaed1c5974c3d7df6"
          }
        }
      }
    }
  },
  "nbformat": 4,
  "nbformat_minor": 0
}