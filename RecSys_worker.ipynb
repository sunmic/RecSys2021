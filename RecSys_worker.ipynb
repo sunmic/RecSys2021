{
  "nbformat": 4,
  "nbformat_minor": 0,
  "metadata": {
    "colab": {
      "name": "RecSys-worker-1.ipynb",
      "provenance": [],
      "collapsed_sections": []
    },
    "kernelspec": {
      "name": "python3",
      "display_name": "Python 3"
    },
    "language_info": {
      "name": "python"
    },
    "accelerator": "GPU"
  },
  "cells": [
    {
      "cell_type": "markdown",
      "metadata": {
        "id": "TpMNFSTYtc1u"
      },
      "source": [
        "# Nazwa i parametry workera"
      ]
    },
    {
      "cell_type": "code",
      "metadata": {
        "colab": {
          "base_uri": "https://localhost:8080/"
        },
        "id": "IjYGReLtirG8",
        "outputId": "5004f714-3feb-4f93-c93c-11801018f1cb"
      },
      "source": [
        "import socket\n",
        "import subprocess\n",
        "import random\n",
        "import os\n",
        "\n",
        "\n",
        "hostname = socket.gethostname()\n",
        "product_name = subprocess.check_output(\"nvidia-smi -q | grep 'Product Name' | cut -c45- | tr ' ' '_'\", shell=True).decode(\"utf-8\")[:-1]\n",
        "worker_name = f\"{hostname}-{product_name}-w{random.randint(1, 10)}\"\n",
        "print(worker_name, '\\n')\n",
        "os.environ['WORKER_NAME'] = worker_name\n",
        "\n",
        "nvidia_smi = product_name = subprocess.check_output(\"nvidia-smi\", shell=True).decode(\"utf-8\")\n",
        "print(nvidia_smi)"
      ],
      "execution_count": null,
      "outputs": [
        {
          "output_type": "stream",
          "text": [
            "401c2e98e781-Tesla_P100-PCIE-16GB-w5 \n",
            "\n",
            "Thu Jun  3 12:07:14 2021       \n",
            "+-----------------------------------------------------------------------------+\n",
            "| NVIDIA-SMI 465.27       Driver Version: 460.32.03    CUDA Version: 11.2     |\n",
            "|-------------------------------+----------------------+----------------------+\n",
            "| GPU  Name        Persistence-M| Bus-Id        Disp.A | Volatile Uncorr. ECC |\n",
            "| Fan  Temp  Perf  Pwr:Usage/Cap|         Memory-Usage | GPU-Util  Compute M. |\n",
            "|                               |                      |               MIG M. |\n",
            "|===============================+======================+======================|\n",
            "|   0  Tesla P100-PCIE...  Off  | 00000000:00:04.0 Off |                    0 |\n",
            "| N/A   34C    P0    26W / 250W |      0MiB / 16280MiB |      0%      Default |\n",
            "|                               |                      |                  N/A |\n",
            "+-------------------------------+----------------------+----------------------+\n",
            "                                                                               \n",
            "+-----------------------------------------------------------------------------+\n",
            "| Processes:                                                                  |\n",
            "|  GPU   GI   CI        PID   Type   Process name                  GPU Memory |\n",
            "|        ID   ID                                                   Usage      |\n",
            "|=============================================================================|\n",
            "|  No running processes found                                                 |\n",
            "+-----------------------------------------------------------------------------+\n",
            "\n"
          ],
          "name": "stdout"
        }
      ]
    },
    {
      "cell_type": "markdown",
      "metadata": {
        "id": "d8Ny2g88tmkh"
      },
      "source": [
        "# Instalacja pakietów ClearML (uwaga: wymaga restartu i ponownego uruchomienia notebooka)"
      ]
    },
    {
      "cell_type": "code",
      "metadata": {
        "colab": {
          "base_uri": "https://localhost:8080/"
        },
        "id": "GqZ4DEC3qkKM",
        "outputId": "4d55535a-5e72-473d-96fc-7c073f56ba85"
      },
      "source": [
        "!rm ./env_restart_required 2>/dev/null\n",
        "!pip show clearml || (touch ./env_restart_required && pip install clearml numpy clearml-agent 'pyjwt<1.8.0')\n",
        "!(ls -l ./env_restart_required 2>/dev/null && echo \"Restart required.\") || echo \"Ready to go.\" \n",
        "import os\n",
        "os.kill(os.getpid(), 9) if os.path.exists('./env_restart_required') else None"
      ],
      "execution_count": null,
      "outputs": [
        {
          "output_type": "stream",
          "text": [
            "Name: clearml\n",
            "Version: 1.0.3\n",
            "Summary: ClearML - Auto-Magical Experiment Manager, Version Control, and MLOps for AI\n",
            "Home-page: https://github.com/allegroai/clearml\n",
            "Author: Allegroai\n",
            "Author-email: clearml@allegro.ai\n",
            "License: Apache License 2.0\n",
            "Location: /usr/local/lib/python3.7/dist-packages\n",
            "Requires: urllib3, pathlib2, six, Pillow, psutil, furl, pyparsing, PyYAML, future, attrs, requests, jsonschema, pyjwt, humanfriendly, python-dateutil, numpy\n",
            "Required-by: \n",
            "Ready to go.\n"
          ],
          "name": "stdout"
        }
      ]
    },
    {
      "cell_type": "markdown",
      "metadata": {
        "id": "iIGC22Jo3KIM"
      },
      "source": [
        "# Podpięcie dysku"
      ]
    },
    {
      "cell_type": "code",
      "metadata": {
        "colab": {
          "base_uri": "https://localhost:8080/"
        },
        "id": "EFJV8JvMxa1t",
        "outputId": "f94f8e49-c85d-44a4-ad03-ac804602a9ff"
      },
      "source": [
        "from google.colab import drive\n",
        "drive.mount('/content/drive')"
      ],
      "execution_count": null,
      "outputs": [
        {
          "output_type": "stream",
          "text": [
            "Mounted at /content/drive\n"
          ],
          "name": "stdout"
        }
      ]
    },
    {
      "cell_type": "markdown",
      "metadata": {
        "id": "Z3PpyjCo3NEY"
      },
      "source": [
        "# Sprawdzenie regionu w którym pracuje instancja (opcjonalne)"
      ]
    },
    {
      "cell_type": "code",
      "metadata": {
        "id": "U6T1EPOh0O17",
        "colab": {
          "base_uri": "https://localhost:8080/"
        },
        "outputId": "cd5ee302-7752-4553-b29f-7b65255485ab"
      },
      "source": [
        "!ls ./gcping_linux_amd64_latest || cp /content/drive/Shareddrives/RecSys21/colab/gcping_linux_amd64_latest .\n",
        "!chmod +x ./gcping_linux_amd64_latest\n",
        "!./gcping_linux_amd64_latest | head"
      ],
      "execution_count": null,
      "outputs": [
        {
          "output_type": "stream",
          "text": [
            "ls: cannot access './gcping_linux_amd64_latest': No such file or directory\n",
            " 1.  [asia-east1]               13.058671ms\n",
            " 2.  [global]                   16.9059ms\n",
            " 3.  [asia-east2]               159.812849ms\n",
            " 4.  [asia-northeast2]          222.900584ms\n",
            " 5.  [asia-northeast1]          225.095173ms\n",
            " 6.  [asia-southeast1]          305.547076ms\n",
            " 7.  [asia-northeast3]          350.411793ms\n",
            " 8.  [asia-southeast2]          378.629513ms\n",
            " 9.  [asia-south1]              652.829951ms\n",
            "10.  [australia-southeast1]     846.412868ms\n"
          ],
          "name": "stdout"
        }
      ]
    },
    {
      "cell_type": "markdown",
      "metadata": {
        "id": "Wr7Avuv3hsSG"
      },
      "source": [
        "# Konfiguracja i uruchomienie workera\n",
        "\n"
      ]
    },
    {
      "cell_type": "code",
      "metadata": {
        "id": "LOZyLPPwlffN"
      },
      "source": [
        "%%bash\n",
        "\n",
        "cp /content/drive/Shareddrives/RecSys21/colab/clearml.conf /root\n",
        "\n",
        "export agent=`cat <<EOF\n",
        "# Additional agent configuration\n",
        "agent {\n",
        "  worker_id: $WORKER_NAME\n",
        "}\n",
        "EOF\n",
        "`\n",
        "echo \"$agent\" >> /root/clearml.conf"
      ],
      "execution_count": null,
      "outputs": []
    },
    {
      "cell_type": "code",
      "metadata": {
        "id": "yEltJrydhvjL"
      },
      "source": [
        "!clearml-agent daemon --queue default --foreground"
      ],
      "execution_count": null,
      "outputs": []
    }
  ]
}